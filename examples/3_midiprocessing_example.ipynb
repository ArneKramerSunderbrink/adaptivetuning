{
 "cells": [
  {
   "cell_type": "markdown",
   "metadata": {},
   "source": [
    "# Midiprocessing"
   ]
  },
  {
   "cell_type": "code",
   "execution_count": 1,
   "metadata": {},
   "outputs": [
    {
     "data": {
      "application/javascript": [
       "Jupyter.keyboard_manager.command_shortcuts.add_shortcut(\n",
       "                                        'cmd-.', {\n",
       "                                        help : 'sc.cmd(\"s.freeAll\")',\n",
       "                                        help_index : 'zz',\n",
       "                                        handler : function (event) {\n",
       "                                            IPython.notebook.kernel.execute(\"sc.cmd('s.freeAll')\")\n",
       "                                            return true;}\n",
       "                                    });"
      ],
      "text/plain": [
       "<IPython.core.display.Javascript object>"
      ]
     },
     "metadata": {},
     "output_type": "display_data"
    }
   ],
   "source": [
    "from adaptivetuning import Midiprocessing"
   ]
  },
  {
   "cell_type": "markdown",
   "metadata": {},
   "source": [
    "A Midiprocessing objects receives midi messages from a controller (e.g. a midi-keyboard) or reads a midi file. On every note-on and note-off message, it calls some given callback function."
   ]
  },
  {
   "cell_type": "code",
   "execution_count": 2,
   "metadata": {},
   "outputs": [],
   "source": [
    "m = Midiprocessing()"
   ]
  },
  {
   "cell_type": "markdown",
   "metadata": {},
   "source": [
    "You can stop a Midiprocessor by calling its stop method or by setting a threading.Event you pass when calling play_port or play_file, but when we are working in a single thread, the midi processing will block the thread and prevent us from stopping it."
   ]
  },
  {
   "cell_type": "markdown",
   "metadata": {},
   "source": [
    "For a simple test of Midiprocessing in a single thread, we can specify a maximal number of notes it will process, after that it will stop automatically."
   ]
  },
  {
   "cell_type": "code",
   "execution_count": 3,
   "metadata": {},
   "outputs": [],
   "source": [
    "m.max_notes = 5"
   ]
  },
  {
   "cell_type": "markdown",
   "metadata": {},
   "source": [
    "We have to specify what to do with the received messages."
   ]
  },
  {
   "cell_type": "code",
   "execution_count": 4,
   "metadata": {},
   "outputs": [],
   "source": [
    "m.note_on_callback = lambda pitch, amp: print('Note on:', pitch, amp)\n",
    "m.note_off_callback = lambda pitch: print('Note off', pitch)\n",
    "m.stop_callback = lambda: print('Stop')"
   ]
  },
  {
   "cell_type": "markdown",
   "metadata": {},
   "source": [
    "Let's read a midi file and play it first 5 notes!"
   ]
  },
  {
   "cell_type": "code",
   "execution_count": 5,
   "metadata": {},
   "outputs": [
    {
     "name": "stdout",
     "output_type": "stream",
     "text": [
      "Note on: 71 0.7874015748031497\n",
      "Note on: 67 0.7874015748031497\n",
      "Note on: 64 0.7874015748031497\n",
      "Note on: 52 0.7874015748031497\n",
      "Note off 71\n",
      "Note off 67\n",
      "Note off 64\n",
      "Note off 52\n",
      "Note on: 71 0.7874015748031497\n",
      "Stop\n"
     ]
    }
   ],
   "source": [
    "m.read_file(\"midi_files/BWV_0227.mid\")\n",
    "m.play_file()"
   ]
  },
  {
   "cell_type": "markdown",
   "metadata": {},
   "source": [
    "We can control an Audiogenerator object with a Midiprocessing object by connecting the callbacks with the corresponding methods of the Audiogenerator. The register_audiogenerator method can do that for us."
   ]
  },
  {
   "cell_type": "code",
   "execution_count": 13,
   "metadata": {},
   "outputs": [
    {
     "name": "stdout",
     "output_type": "stream",
     "text": [
      "Starting sclang...\n",
      "Done.\n",
      "Starting osc communication...\n",
      "This sc3nb sc instance is at port: 57130\n",
      "Done.\n",
      "Registering UDP callback...\n",
      "Done.\n",
      "Sclang started on non default port: 57121\n",
      "Booting server...\n",
      "Done.\n",
      "-> sc3nb started\n"
     ]
    }
   ],
   "source": [
    "import sc3nb\n",
    "sc = sc3nb.startup()\n",
    "#sc = None"
   ]
  },
  {
   "cell_type": "code",
   "execution_count": 14,
   "metadata": {},
   "outputs": [],
   "source": [
    "from adaptivetuning import Audiogenerator\n",
    "a = Audiogenerator(sc = sc)\n",
    "a.set_synth_def_with_dict(Audiogenerator.presets['piano'])"
   ]
  },
  {
   "cell_type": "code",
   "execution_count": 55,
   "metadata": {},
   "outputs": [],
   "source": [
    "m.register_audiogenerator(a)\n",
    "m.max_notes = 30"
   ]
  },
  {
   "cell_type": "code",
   "execution_count": 20,
   "metadata": {},
   "outputs": [],
   "source": [
    "m.read_file(\"midi_files/BWV_0227.mid\")\n",
    "m.play_file()"
   ]
  },
  {
   "cell_type": "markdown",
   "metadata": {},
   "source": [
    "Let's hear the first two bars of Bach's 'Jesu meine Freude' with a stretched timbre and a stretched scale!"
   ]
  },
  {
   "cell_type": "code",
   "execution_count": 51,
   "metadata": {},
   "outputs": [],
   "source": [
    "a.partials_pos = {'method': 'harmonic', 'nr_partials': 10, 'octave': 2.8}\n",
    "a.partials_amp = [0.6**i for i in range(10)]\n",
    "a.scale.octave_interval = 2.8\n",
    "a.scale.tune_all_equal_temperament()  # 12TET with streched octave"
   ]
  },
  {
   "cell_type": "code",
   "execution_count": 59,
   "metadata": {},
   "outputs": [],
   "source": [
    "m.play_file()"
   ]
  },
  {
   "cell_type": "markdown",
   "metadata": {},
   "source": [
    "If we want to play something ourselves, we need some kind of midi port, for example from a midi keyboard. If a midi keyboard is connected to your machine, you should see if in the following list:"
   ]
  },
  {
   "cell_type": "code",
   "execution_count": 53,
   "metadata": {},
   "outputs": [
    {
     "data": {
      "text/plain": [
       "['MPK mini']"
      ]
     },
     "execution_count": 53,
     "metadata": {},
     "output_type": "execute_result"
    }
   ],
   "source": [
    "m.get_port_names()"
   ]
  },
  {
   "cell_type": "markdown",
   "metadata": {},
   "source": [
    "Let's play exactly 30 notes with our midi device."
   ]
  },
  {
   "cell_type": "code",
   "execution_count": 58,
   "metadata": {},
   "outputs": [],
   "source": [
    "m.port_name = 'MPK mini'\n",
    "m.play_port()"
   ]
  },
  {
   "cell_type": "code",
   "execution_count": null,
   "metadata": {},
   "outputs": [],
   "source": []
  }
 ],
 "metadata": {
  "kernelspec": {
   "display_name": "Python [conda env:adaptive_tuning] *",
   "language": "python",
   "name": "conda-env-adaptive_tuning-py"
  },
  "language_info": {
   "codemirror_mode": {
    "name": "ipython",
    "version": 3
   },
   "file_extension": ".py",
   "mimetype": "text/x-python",
   "name": "python",
   "nbconvert_exporter": "python",
   "pygments_lexer": "ipython3",
   "version": "3.7.3"
  }
 },
 "nbformat": 4,
 "nbformat_minor": 2
}
