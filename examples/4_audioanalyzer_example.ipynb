{
 "cells": [
  {
   "cell_type": "markdown",
   "metadata": {},
   "source": [
    "# Audioanalyzer"
   ]
  },
  {
   "cell_type": "code",
   "execution_count": 2,
   "metadata": {},
   "outputs": [
    {
     "data": {
      "application/javascript": [
       "Jupyter.keyboard_manager.command_shortcuts.add_shortcut(\n",
       "                                        'cmd-.', {\n",
       "                                        help : 'sc.cmd(\"s.freeAll\")',\n",
       "                                        help_index : 'zz',\n",
       "                                        handler : function (event) {\n",
       "                                            IPython.notebook.kernel.execute(\"sc.cmd('s.freeAll')\")\n",
       "                                            return true;}\n",
       "                                    });"
      ],
      "text/plain": [
       "<IPython.core.display.Javascript object>"
      ]
     },
     "metadata": {},
     "output_type": "display_data"
    }
   ],
   "source": [
    "from adaptivetuning import Audioanalyzer\n",
    "import matplotlib.pyplot as plt\n",
    "import time"
   ]
  },
  {
   "cell_type": "markdown",
   "metadata": {},
   "source": [
    "An Audioanalyzer object reads from a .wav file or records some audio, analyzes it for prominent frequencies and hands them to a given callback function."
   ]
  },
  {
   "cell_type": "markdown",
   "metadata": {},
   "source": [
    "For now, we will just store the frequencies in a list to plot them later."
   ]
  },
  {
   "cell_type": "code",
   "execution_count": 2,
   "metadata": {},
   "outputs": [],
   "source": [
    "times = []\n",
    "freqs = []\n",
    "amps = []\n",
    "def callback(peaks_freq, peaks_amp):\n",
    "    times.append(time.time())\n",
    "    freqs.append(peaks_freq)\n",
    "    amps.append(peaks_amp)"
   ]
  },
  {
   "cell_type": "markdown",
   "metadata": {},
   "source": [
    "We can stop the Audioanalyzer by setting a threading.Event we pass to the Audioanalyzer when calling analyze_file or analyze_record, but when working in a single thread, it is easier to give a maximal duration after which the analyzer stops automatically."
   ]
  },
  {
   "cell_type": "code",
   "execution_count": 3,
   "metadata": {},
   "outputs": [],
   "source": [
    "audioanalyzer = Audioanalyzer(silent=False, result_callback=callback, max_nr_peaks=5)\n",
    "audioanalyzer.analyze_file(\"audio_files/example_noise_1.wav\", max_duration=10)"
   ]
  },
  {
   "cell_type": "code",
   "execution_count": 4,
   "metadata": {},
   "outputs": [
    {
     "data": {
      "image/png": "[encoded data removed]",
      "text/plain": [
       "<Figure size 432x288 with 1 Axes>"
      ]
     },
     "metadata": {
      "needs_background": "light"
     },
     "output_type": "display_data"
    }
   ],
   "source": [
    "data = [(times[i] - times[0], f) for i in range(len(times)) for f in freqs[i]]\n",
    "x, y = zip(*data)\n",
    "plt.semilogy(x, y, 'x')\n",
    "plt.grid(True, 'both')"
   ]
  },
  {
   "cell_type": "markdown",
   "metadata": {},
   "source": [
    "This is how you analyze a live recording:"
   ]
  },
  {
   "cell_type": "code",
   "execution_count": 6,
   "metadata": {},
   "outputs": [],
   "source": [
    "times = []\n",
    "freqs = []\n",
    "amps = []"
   ]
  },
  {
   "cell_type": "code",
   "execution_count": 7,
   "metadata": {},
   "outputs": [],
   "source": [
    "audioanalyzer.analyze_record(max_duration=10)"
   ]
  },
  {
   "cell_type": "code",
   "execution_count": 8,
   "metadata": {},
   "outputs": [
    {
     "data": {
      "image/png": "[encoded data removed]",
      "text/plain": [
       "<Figure size 432x288 with 1 Axes>"
      ]
     },
     "metadata": {
      "needs_background": "light"
     },
     "output_type": "display_data"
    }
   ],
   "source": [
    "data = [(times[i] - times[0], f) for i in range(len(times)) for f in freqs[i]]\n",
    "x, y = zip(*data)\n",
    "plt.semilogy(x, y, 'x')\n",
    "plt.grid(True, 'both')"
   ]
  },
  {
   "cell_type": "markdown",
   "metadata": {},
   "source": [
    "Note that this is only storing prominent frequencies - If there is nothing in your plot, it might just be because there are no prominent frequencies in your environment, or they are not loud enough for your microphone to pick them up."
   ]
  },
  {
   "cell_type": "markdown",
   "metadata": {},
   "source": [
    "Let's use the sound of a humming guitar amp as a timbre for a synth, just for fun!"
   ]
  },
  {
   "cell_type": "code",
   "execution_count": 57,
   "metadata": {},
   "outputs": [
    {
     "data": {
      "image/png": "[encoded data removed]",
      "text/plain": [
       "<Figure size 432x288 with 1 Axes>"
      ]
     },
     "metadata": {
      "needs_background": "light"
     },
     "output_type": "display_data"
    }
   ],
   "source": [
    "times = []\n",
    "freqs = []\n",
    "amps = []\n",
    "audioanalyzer.max_nr_peaks = 20\n",
    "audioanalyzer.analyze_file(\"audio_files/example_noise_2.wav\", max_duration=10)\n",
    "data = [(times[i] - times[0], f) for i in range(len(times)) for f in freqs[i]]\n",
    "x, y = zip(*data)\n",
    "plt.semilogy(x, y, 'x')\n",
    "plt.grid(True, 'both')"
   ]
  },
  {
   "cell_type": "code",
   "execution_count": 39,
   "metadata": {},
   "outputs": [
    {
     "data": {
      "text/plain": [
       "<BarContainer object of 18 artists>"
      ]
     },
     "execution_count": 39,
     "metadata": {},
     "output_type": "execute_result"
    },
    {
     "data": {
      "image/png": "[encoded data removed]",
      "text/plain": [
       "<Figure size 432x288 with 1 Axes>"
      ]
     },
     "metadata": {
      "needs_background": "light"
     },
     "output_type": "display_data"
    }
   ],
   "source": [
    "partials_amp = amps[7] / amps[7][0]\n",
    "partials_pos = [f / freqs[7][0] for f in freqs[7]]\n",
    "plt.bar(partials_pos, partials_amp, width=0.05)"
   ]
  },
  {
   "cell_type": "code",
   "execution_count": 40,
   "metadata": {},
   "outputs": [
    {
     "name": "stdout",
     "output_type": "stream",
     "text": [
      "Starting sclang...\n",
      "Done.\n",
      "Starting osc communication...\n",
      "This sc3nb sc instance is at port: 57130\n",
      "Done.\n",
      "Registering UDP callback...\n",
      "Done.\n",
      "Booting server...\n",
      "Done.\n",
      "-> sc3nb started\n"
     ]
    }
   ],
   "source": [
    "import sc3nb\n",
    "sc = sc3nb.startup()\n",
    "#sc = None"
   ]
  },
  {
   "cell_type": "code",
   "execution_count": 41,
   "metadata": {},
   "outputs": [],
   "source": [
    "from adaptivetuning import Audiogenerator\n",
    "a = Audiogenerator(sc = sc)"
   ]
  },
  {
   "cell_type": "code",
   "execution_count": 42,
   "metadata": {},
   "outputs": [],
   "source": [
    "a.partials_amp = partials_amp\n",
    "a.partials_pos = partials_pos"
   ]
  },
  {
   "cell_type": "code",
   "execution_count": 65,
   "metadata": {},
   "outputs": [],
   "source": [
    "a.note_on(65, 1)"
   ]
  },
  {
   "cell_type": "code",
   "execution_count": 66,
   "metadata": {},
   "outputs": [],
   "source": [
    "a.note_off(65)"
   ]
  },
  {
   "cell_type": "code",
   "execution_count": 67,
   "metadata": {},
   "outputs": [],
   "source": [
    "from adaptivetuning import Midiprocessing\n",
    "m = Midiprocessing()\n",
    "m.register_audiogenerator(a)\n",
    "m.max_notes = 30"
   ]
  },
  {
   "cell_type": "code",
   "execution_count": 68,
   "metadata": {},
   "outputs": [
    {
     "data": {
      "text/plain": [
       "['MPK mini']"
      ]
     },
     "execution_count": 68,
     "metadata": {},
     "output_type": "execute_result"
    }
   ],
   "source": [
    "m.get_port_names()"
   ]
  },
  {
   "cell_type": "code",
   "execution_count": 69,
   "metadata": {},
   "outputs": [],
   "source": [
    "m.port_name = 'MPK mini'"
   ]
  },
  {
   "cell_type": "code",
   "execution_count": 70,
   "metadata": {},
   "outputs": [],
   "source": [
    "m.play_port()"
   ]
  },
  {
   "cell_type": "code",
   "execution_count": null,
   "metadata": {},
   "outputs": [],
   "source": []
  }
 ],
 "metadata": {
  "kernelspec": {
   "display_name": "Python [conda env:adaptive_tuning] *",
   "language": "python",
   "name": "conda-env-adaptive_tuning-py"
  },
  "language_info": {
   "codemirror_mode": {
    "name": "ipython",
    "version": 3
   },
   "file_extension": ".py",
   "mimetype": "text/x-python",
   "name": "python",
   "nbconvert_exporter": "python",
   "pygments_lexer": "ipython3",
   "version": "3.7.3"
  }
 },
 "nbformat": 4,
 "nbformat_minor": 2
}
