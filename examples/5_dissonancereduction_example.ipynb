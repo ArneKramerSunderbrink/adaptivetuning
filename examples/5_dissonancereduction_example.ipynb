{
 "cells": [
  {
   "cell_type": "markdown",
   "metadata": {},
   "source": [
    "# Dissonancereduction"
   ]
  },
  {
   "cell_type": "code",
   "execution_count": 4,
   "metadata": {},
   "outputs": [],
   "source": [
    "from adaptivetuning import Dissonancereduction\n",
    "import numpy as np"
   ]
  },
  {
   "cell_type": "markdown",
   "metadata": {},
   "source": [
    "Construct an example first, an A major chord in closed position with added octave (A4, C#5, E5, A4) in 12TET."
   ]
  },
  {
   "cell_type": "code",
   "execution_count": 10,
   "metadata": {},
   "outputs": [],
   "source": [
    "ji_intervals = [1, 16/15, 9/8, 6/5, 5/4, 4/3, 45/32, 3/2, 8/5, 5/3, 9/5, 15/8, 2]\n",
    "partials_vol_piano = np.array([3.7, 5.4, 1.2, 1.1, 0.95, 0.6, 0.5, 0.65, 0.001, 0.1, 0.2]) / 5.4\n",
    "\n",
    "notes = [0, 4, 7, 12]\n",
    "et_fundamentals = [440 * 2**(i/12) for i in notes]  # equal tempered version of that chord\n",
    "ji_fundamentals = [440 * ji_intervals[i] for i in notes]  # just version\n",
    "fundamentals_vol = np.ones(len(notes))\n",
    "partials_pos = list(range(1, len(partials_vol_piano) + 1))\n",
    "partials_vol = partials_vol_piano\n",
    "relative_bounds = (2**(-1/24), 2**(1/24))"
   ]
  },
  {
   "cell_type": "markdown",
   "metadata": {},
   "source": [
    "The partials of the tonic are used as fixed positions, the rest is to be tuned."
   ]
  },
  {
   "cell_type": "code",
   "execution_count": 11,
   "metadata": {},
   "outputs": [],
   "source": [
    "fixed_freq = [et_fundamentals[0] * p for p in partials_pos]\n",
    "fixed_vol = [fundamentals_vol[0] * v for v in partials_vol]"
   ]
  },
  {
   "cell_type": "code",
   "execution_count": 12,
   "metadata": {},
   "outputs": [],
   "source": [
    "dissonancereduction = Dissonancereduction()"
   ]
  },
  {
   "cell_type": "markdown",
   "metadata": {},
   "source": [
    "First factors that we treat as constants during optimization are calculated."
   ]
  },
  {
   "cell_type": "code",
   "execution_count": 13,
   "metadata": {},
   "outputs": [],
   "source": [
    "relevant_pairs, critical_bandwidths, volume_factors = dissonancereduction.quasi_constants(\n",
    "    np.array(et_fundamentals[1:]), np.array(fundamentals_vol[1:]),\n",
    "    np.array(partials_pos), np.array(partials_vol),\n",
    "    np.array(fixed_freq), np.array(fixed_vol))"
   ]
  },
  {
   "cell_type": "markdown",
   "metadata": {},
   "source": [
    "Dropping pairs with volume factor = 0 or distance > 1.46 x critical bandwidth reduces the amount of relevant pairs from 1210 to 140."
   ]
  },
  {
   "cell_type": "code",
   "execution_count": 14,
   "metadata": {},
   "outputs": [
    {
     "data": {
      "text/plain": [
       "140"
      ]
     },
     "execution_count": 14,
     "metadata": {},
     "output_type": "execute_result"
    }
   ],
   "source": [
    "len(relevant_pairs)"
   ]
  },
  {
   "cell_type": "markdown",
   "metadata": {},
   "source": [
    "If [i,k,j,l] in relevant_pairs than the ith partial of the kth complex tone and the jth partial of the lth overtone form a relevant pair. If l = -1, j, l refers to the jth fixed frequency instead."
   ]
  },
  {
   "cell_type": "markdown",
   "metadata": {},
   "source": [
    "The second overtone of the tonic (2, -1) and the first overtone of the fifths (1, 1) are close -> relevant."
   ]
  },
  {
   "cell_type": "code",
   "execution_count": 15,
   "metadata": {},
   "outputs": [
    {
     "data": {
      "text/plain": [
       "True"
      ]
     },
     "execution_count": 15,
     "metadata": {},
     "output_type": "execute_result"
    }
   ],
   "source": [
    "[1, 1, 2, -1] in relevant_pairs.tolist()"
   ]
  },
  {
   "cell_type": "markdown",
   "metadata": {},
   "source": [
    "The fundamental of the tonic (0, -1) and the first overtone of the fifths (1, 1) are not close -> irrelevant."
   ]
  },
  {
   "cell_type": "code",
   "execution_count": 18,
   "metadata": {},
   "outputs": [
    {
     "data": {
      "text/plain": [
       "False"
      ]
     },
     "execution_count": 18,
     "metadata": {},
     "output_type": "execute_result"
    }
   ],
   "source": [
    "[1, 1, 0, -1] in relevant_pairs.tolist()"
   ]
  },
  {
   "cell_type": "markdown",
   "metadata": {},
   "source": [
    "The eighth overtones of the third and fifths are close -> relevant."
   ]
  },
  {
   "cell_type": "code",
   "execution_count": 17,
   "metadata": {},
   "outputs": [
    {
     "data": {
      "text/plain": [
       "True"
      ]
     },
     "execution_count": 17,
     "metadata": {},
     "output_type": "execute_result"
    }
   ],
   "source": [
    "[0, 8, 1, 8] in relevant_pairs.tolist()"
   ]
  },
  {
   "cell_type": "markdown",
   "metadata": {},
   "source": [
    "But since the eighth overtone of our piano is very week, the volume factor of the pair is small:"
   ]
  },
  {
   "cell_type": "code",
   "execution_count": 20,
   "metadata": {},
   "outputs": [
    {
     "data": {
      "text/plain": [
       "0.8608141448259226"
      ]
     },
     "execution_count": 20,
     "metadata": {},
     "output_type": "execute_result"
    }
   ],
   "source": [
    "volume_factors[relevant_pairs.tolist().index([0, 8, 1, 8])]"
   ]
  },
  {
   "cell_type": "markdown",
   "metadata": {},
   "source": [
    "The first overtones are strong -> big volume factor."
   ]
  },
  {
   "cell_type": "code",
   "execution_count": 21,
   "metadata": {},
   "outputs": [
    {
     "data": {
      "text/plain": [
       "4.5313189239810825"
      ]
     },
     "execution_count": 21,
     "metadata": {},
     "output_type": "execute_result"
    }
   ],
   "source": [
    "volume_factors[relevant_pairs.tolist().index([0, 1, 1, 1])]"
   ]
  },
  {
   "cell_type": "markdown",
   "metadata": {},
   "source": [
    "First overtones of the third and the fifths ([0, 1, 1, 1]) are approximately at 1200 HZ where the critical bandwidth is approximately 200 Hz, our approximation is very rough of course."
   ]
  },
  {
   "cell_type": "code",
   "execution_count": 22,
   "metadata": {},
   "outputs": [
    {
     "data": {
      "text/plain": [
       "187.33314724834622"
      ]
     },
     "execution_count": 22,
     "metadata": {},
     "output_type": "execute_result"
    }
   ],
   "source": [
    "critical_bandwidths[relevant_pairs.tolist().index([0, 1, 1, 1])]"
   ]
  },
  {
   "cell_type": "markdown",
   "metadata": {},
   "source": [
    "Third overtones of the third and the fifths ([0, 3, 1, 3]) are approximately at 2400 HZ where the critical bandwidth is approximately 380 Hz."
   ]
  },
  {
   "cell_type": "code",
   "execution_count": 24,
   "metadata": {},
   "outputs": [
    {
     "data": {
      "text/plain": [
       "373.04659900888373"
      ]
     },
     "execution_count": 24,
     "metadata": {},
     "output_type": "execute_result"
    }
   ],
   "source": [
    "critical_bandwidths[relevant_pairs.tolist().index([0, 3, 1, 3])]"
   ]
  },
  {
   "cell_type": "code",
   "execution_count": 25,
   "metadata": {},
   "outputs": [],
   "source": [
    "dissonance, gradient = dissonancereduction.dissonance_and_gradient(\n",
    "    np.array(et_fundamentals[1:]), np.array(partials_pos), np.array(fixed_freq),\n",
    "    np.array(critical_bandwidths), np.array(volume_factors), np.array(relevant_pairs))"
   ]
  },
  {
   "cell_type": "markdown",
   "metadata": {},
   "source": [
    "The most dissonant note of an equal tempered major chord is the major third which is to sharp -> the biggest value of the gradient is the one corresponding to the major third and the negative gradient is pointing in the negative direction, corresponding to a down-tuning of the third."
   ]
  },
  {
   "cell_type": "code",
   "execution_count": 27,
   "metadata": {},
   "outputs": [
    {
     "data": {
      "text/plain": [
       "array([ 0.00593165, -0.00090389, -0.0016534 ])"
      ]
     },
     "execution_count": 27,
     "metadata": {},
     "output_type": "execute_result"
    }
   ],
   "source": [
    "gradient"
   ]
  },
  {
   "cell_type": "code",
   "execution_count": 28,
   "metadata": {},
   "outputs": [],
   "source": [
    "result = dissonancereduction.tune(np.array(et_fundamentals[1:]), np.array(fundamentals_vol[1:]),\n",
    "                                  np.array(partials_pos), np.array(partials_vol),\n",
    "                                  np.array(fixed_freq), np.array(fixed_vol))"
   ]
  },
  {
   "cell_type": "code",
   "execution_count": 29,
   "metadata": {},
   "outputs": [
    {
     "data": {
      "text/plain": [
       "      fun: 0.8749697723835244\n",
       " hess_inv: <3x3 LbfgsInvHessProduct with dtype=float64>\n",
       "      jac: array([ 0.00059601,  0.00027074, -0.0001622 ])\n",
       "  message: b'CONVERGENCE: REL_REDUCTION_OF_F_<=_FACTR*EPSMCH'\n",
       "     nfev: 28\n",
       "      nit: 5\n",
       "   status: 0\n",
       "  success: True\n",
       "        x: array([549.99032273, 659.77210576, 880.40175926])"
      ]
     },
     "execution_count": 29,
     "metadata": {},
     "output_type": "execute_result"
    }
   ],
   "source": [
    "result"
   ]
  },
  {
   "cell_type": "markdown",
   "metadata": {},
   "source": [
    "The resulting chord is more similar to a just major chord than to a equal tempered major chord:"
   ]
  },
  {
   "cell_type": "code",
   "execution_count": 33,
   "metadata": {},
   "outputs": [
    {
     "data": {
      "text/plain": [
       "[1.0, 1.2499780061934875, 1.4994820585387896, 2.0009130892203113]"
      ]
     },
     "execution_count": 33,
     "metadata": {},
     "output_type": "execute_result"
    }
   ],
   "source": [
    "[f / et_fundamentals[0] for f in [et_fundamentals[0]] + result['x'].tolist()]"
   ]
  },
  {
   "cell_type": "code",
   "execution_count": 34,
   "metadata": {},
   "outputs": [
    {
     "data": {
      "text/plain": [
       "[1.0, 1.259921049894873, 1.4983070768766815, 2.0]"
      ]
     },
     "execution_count": 34,
     "metadata": {},
     "output_type": "execute_result"
    }
   ],
   "source": [
    "[f / et_fundamentals[0] for f in et_fundamentals]"
   ]
  },
  {
   "cell_type": "code",
   "execution_count": 35,
   "metadata": {},
   "outputs": [
    {
     "data": {
      "text/plain": [
       "[1.0, 1.25, 1.5, 2.0]"
      ]
     },
     "execution_count": 35,
     "metadata": {},
     "output_type": "execute_result"
    }
   ],
   "source": [
    "[f / ji_fundamentals[0] for f in ji_fundamentals]"
   ]
  },
  {
   "cell_type": "code",
   "execution_count": null,
   "metadata": {},
   "outputs": [],
   "source": []
  }
 ],
 "metadata": {
  "kernelspec": {
   "display_name": "Python [conda env:adaptive_tuning] *",
   "language": "python",
   "name": "conda-env-adaptive_tuning-py"
  },
  "language_info": {
   "codemirror_mode": {
    "name": "ipython",
    "version": 3
   },
   "file_extension": ".py",
   "mimetype": "text/x-python",
   "name": "python",
   "nbconvert_exporter": "python",
   "pygments_lexer": "ipython3",
   "version": "3.7.3"
  }
 },
 "nbformat": 4,
 "nbformat_minor": 2
}
