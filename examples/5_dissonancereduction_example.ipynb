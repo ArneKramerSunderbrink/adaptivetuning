{
 "cells": [
  {
   "cell_type": "markdown",
   "metadata": {},
   "source": [
    "# Dissonancereduction"
   ]
  },
  {
   "cell_type": "code",
   "execution_count": 1,
   "metadata": {},
   "outputs": [
    {
     "data": {
      "application/javascript": [
       "Jupyter.keyboard_manager.command_shortcuts.add_shortcut(\n",
       "                                        'cmd-.', {\n",
       "                                        help : 'sc.cmd(\"s.freeAll\")',\n",
       "                                        help_index : 'zz',\n",
       "                                        handler : function (event) {\n",
       "                                            IPython.notebook.kernel.execute(\"sc.cmd('s.freeAll')\")\n",
       "                                            return true;}\n",
       "                                    });"
      ],
      "text/plain": [
       "<IPython.core.display.Javascript object>"
      ]
     },
     "metadata": {},
     "output_type": "display_data"
    }
   ],
   "source": [
    "from adaptivetuning import Dissonancereduction\n",
    "import numpy as np"
   ]
  },
  {
   "cell_type": "markdown",
   "metadata": {},
   "source": [
    "A Dissonancereduction object provides methods to fine-tune a set of complex tones to reduce their dissonance as defined by the beating theory of dissonance. That includes both the dissonance they produce with each other and the dissonance they produce with a given set of fixed simple tones."
   ]
  },
  {
   "cell_type": "markdown",
   "metadata": {},
   "source": [
    "## Explanation"
   ]
  },
  {
   "cell_type": "markdown",
   "metadata": {},
   "source": [
    "Construct an example first, an A major piano chord in closed position with added octave (A4, C#5, E5, A4) in 12TET."
   ]
  },
  {
   "cell_type": "code",
   "execution_count": 2,
   "metadata": {},
   "outputs": [],
   "source": [
    "ji_intervals = [1, 16/15, 9/8, 6/5, 5/4, 4/3, 45/32, 3/2, 8/5, 5/3, 9/5, 15/8, 2]\n",
    "partials_vol_piano = np.array([3.7, 5.4, 1.2, 1.1, 0.95, 0.6, 0.5, 0.65, 0.001, 0.1, 0.2]) / 5.4\n",
    "\n",
    "notes = [0, 4, 7, 12]\n",
    "et_fundamentals = [440 * 2**(i/12) for i in notes]  # equal tempered version of that chord\n",
    "ji_fundamentals = [440 * ji_intervals[i] for i in notes]  # just version\n",
    "fundamentals_vol = np.ones(len(notes))\n",
    "partials_pos = list(range(1, len(partials_vol_piano) + 1))\n",
    "partials_vol = partials_vol_piano"
   ]
  },
  {
   "cell_type": "markdown",
   "metadata": {},
   "source": [
    "The partials of the tonic are used as fixed positions, the rest is to be tuned."
   ]
  },
  {
   "cell_type": "code",
   "execution_count": 3,
   "metadata": {},
   "outputs": [],
   "source": [
    "fixed_freq = [et_fundamentals[0] * p for p in partials_pos]\n",
    "fixed_vol = [fundamentals_vol[0] * v for v in partials_vol]"
   ]
  },
  {
   "cell_type": "code",
   "execution_count": 4,
   "metadata": {},
   "outputs": [],
   "source": [
    "dissonancereduction = Dissonancereduction(method='CG', relative_bounds=None)"
   ]
  },
  {
   "cell_type": "markdown",
   "metadata": {},
   "source": [
    "First factors that we treat as constants during optimization are calculated."
   ]
  },
  {
   "cell_type": "code",
   "execution_count": 5,
   "metadata": {},
   "outputs": [],
   "source": [
    "relevant_pairs, critical_bandwidths, volume_factors = dissonancereduction.quasi_constants(\n",
    "    np.array(et_fundamentals[1:]), np.array(fundamentals_vol[1:]),\n",
    "    np.array(partials_pos), np.array(partials_vol),\n",
    "    np.array(fixed_freq), np.array(fixed_vol))"
   ]
  },
  {
   "cell_type": "markdown",
   "metadata": {},
   "source": [
    "Dropping pairs with volume factor = 0 or distance > 1.46 x critical bandwidth reduces the amount of relevant pairs from 1210 to 140."
   ]
  },
  {
   "cell_type": "code",
   "execution_count": 6,
   "metadata": {},
   "outputs": [
    {
     "data": {
      "text/plain": [
       "140"
      ]
     },
     "execution_count": 6,
     "metadata": {},
     "output_type": "execute_result"
    }
   ],
   "source": [
    "len(relevant_pairs)"
   ]
  },
  {
   "cell_type": "markdown",
   "metadata": {},
   "source": [
    "If [i,k,j,l] in relevant_pairs than the kth partial of the ith complex tone and the lth partial of the jth overtone form a relevant pair. If l = -1, j, l refers to the jth fixed frequency instead."
   ]
  },
  {
   "cell_type": "markdown",
   "metadata": {},
   "source": [
    "The second overtone of the tonic (2, -1) and the first overtone of the fifths (1, 1) are close -> relevant."
   ]
  },
  {
   "cell_type": "code",
   "execution_count": 7,
   "metadata": {},
   "outputs": [
    {
     "data": {
      "text/plain": [
       "True"
      ]
     },
     "execution_count": 7,
     "metadata": {},
     "output_type": "execute_result"
    }
   ],
   "source": [
    "[1, 1, 2, -1] in relevant_pairs.tolist()"
   ]
  },
  {
   "cell_type": "markdown",
   "metadata": {},
   "source": [
    "The fundamental of the tonic (0, -1) and the first overtone of the fifths (1, 1) are not close -> irrelevant."
   ]
  },
  {
   "cell_type": "code",
   "execution_count": 8,
   "metadata": {},
   "outputs": [
    {
     "data": {
      "text/plain": [
       "False"
      ]
     },
     "execution_count": 8,
     "metadata": {},
     "output_type": "execute_result"
    }
   ],
   "source": [
    "[1, 1, 0, -1] in relevant_pairs.tolist()"
   ]
  },
  {
   "cell_type": "markdown",
   "metadata": {},
   "source": [
    "The eighth overtones of the third and fifths are close -> relevant."
   ]
  },
  {
   "cell_type": "code",
   "execution_count": 9,
   "metadata": {},
   "outputs": [
    {
     "data": {
      "text/plain": [
       "True"
      ]
     },
     "execution_count": 9,
     "metadata": {},
     "output_type": "execute_result"
    }
   ],
   "source": [
    "[0, 8, 1, 8] in relevant_pairs.tolist()"
   ]
  },
  {
   "cell_type": "markdown",
   "metadata": {},
   "source": [
    "But the eighth overtones of our timbre are weak, so the volume factor is small."
   ]
  },
  {
   "cell_type": "code",
   "execution_count": 10,
   "metadata": {},
   "outputs": [
    {
     "data": {
      "text/plain": [
       "0.8608141448259226"
      ]
     },
     "execution_count": 10,
     "metadata": {},
     "output_type": "execute_result"
    }
   ],
   "source": [
    "volume_factors[relevant_pairs.tolist().index([0, 8, 1, 8])]"
   ]
  },
  {
   "cell_type": "markdown",
   "metadata": {},
   "source": [
    "The first overtones are strong -> big volume factor."
   ]
  },
  {
   "cell_type": "code",
   "execution_count": 11,
   "metadata": {},
   "outputs": [
    {
     "data": {
      "text/plain": [
       "4.5313189239810825"
      ]
     },
     "execution_count": 11,
     "metadata": {},
     "output_type": "execute_result"
    }
   ],
   "source": [
    "volume_factors[relevant_pairs.tolist().index([0, 1, 1, 1])]"
   ]
  },
  {
   "cell_type": "markdown",
   "metadata": {},
   "source": [
    "First overtones of the third and the fifths ([0, 1, 1, 1]) are approximately at 1200 HZ where the critical bandwidth is approximately 200 Hz, our approximation is very rough of course."
   ]
  },
  {
   "cell_type": "code",
   "execution_count": 12,
   "metadata": {},
   "outputs": [
    {
     "data": {
      "text/plain": [
       "187.33314724834622"
      ]
     },
     "execution_count": 12,
     "metadata": {},
     "output_type": "execute_result"
    }
   ],
   "source": [
    "critical_bandwidths[relevant_pairs.tolist().index([0, 1, 1, 1])]"
   ]
  },
  {
   "cell_type": "markdown",
   "metadata": {},
   "source": [
    "Third overtones of the third and the fifths ([0, 3, 1, 3]) are approximately at 2400 HZ where the critical bandwidth is approximately 380 Hz."
   ]
  },
  {
   "cell_type": "code",
   "execution_count": 13,
   "metadata": {},
   "outputs": [
    {
     "data": {
      "text/plain": [
       "373.04659900888373"
      ]
     },
     "execution_count": 13,
     "metadata": {},
     "output_type": "execute_result"
    }
   ],
   "source": [
    "critical_bandwidths[relevant_pairs.tolist().index([0, 3, 1, 3])]"
   ]
  },
  {
   "cell_type": "code",
   "execution_count": 14,
   "metadata": {},
   "outputs": [],
   "source": [
    "dissonance, gradient = dissonancereduction.dissonance_and_gradient(\n",
    "    np.array(et_fundamentals[1:]), np.array(partials_pos), np.array(fixed_freq),\n",
    "    np.array(critical_bandwidths), np.array(volume_factors), np.array(relevant_pairs))"
   ]
  },
  {
   "cell_type": "markdown",
   "metadata": {},
   "source": [
    "The most dissonant note of an equal tempered major chord is the major third which is to sharp -> the biggest value of the gradient is the one corresponding to the major third and the negative gradient is pointing in the negative direction, corresponding to a down-tuning of the third."
   ]
  },
  {
   "cell_type": "code",
   "execution_count": 15,
   "metadata": {},
   "outputs": [
    {
     "data": {
      "text/plain": [
       "array([ 0.00593165, -0.00090389, -0.0016534 ])"
      ]
     },
     "execution_count": 15,
     "metadata": {},
     "output_type": "execute_result"
    }
   ],
   "source": [
    "gradient"
   ]
  },
  {
   "cell_type": "code",
   "execution_count": 16,
   "metadata": {},
   "outputs": [],
   "source": [
    "result = dissonancereduction.tune(np.array(et_fundamentals[1:]), np.array(fundamentals_vol[1:]),\n",
    "                                  np.array(partials_pos), np.array(partials_vol),\n",
    "                                  np.array(fixed_freq), np.array(fixed_vol))"
   ]
  },
  {
   "cell_type": "code",
   "execution_count": 17,
   "metadata": {},
   "outputs": [
    {
     "data": {
      "text/plain": [
       "     fun: 0.8749162471402305\n",
       "     jac: array([0.0003685, 0.0004641, 0.0003907])\n",
       " message: 'Desired error not necessarily achieved due to precision loss.'\n",
       "    nfev: 116\n",
       "     nit: 2\n",
       "    njev: 104\n",
       "  status: 2\n",
       " success: False\n",
       "       x: array([549.95398172, 659.90390223, 880.66548775])"
      ]
     },
     "execution_count": 17,
     "metadata": {},
     "output_type": "execute_result"
    }
   ],
   "source": [
    "result"
   ]
  },
  {
   "cell_type": "markdown",
   "metadata": {},
   "source": [
    "The resulting chord is more similar to a just major chord than to a equal tempered major chord:"
   ]
  },
  {
   "cell_type": "code",
   "execution_count": 112,
   "metadata": {},
   "outputs": [],
   "source": [
    "def freq_to_cent(freqs):\n",
    "    return [int(round(1200 * np.log2(f / freqs[0]))) for f in freqs]"
   ]
  },
  {
   "cell_type": "code",
   "execution_count": 113,
   "metadata": {},
   "outputs": [
    {
     "data": {
      "text/plain": [
       "[0, 387, 701, 1201]"
      ]
     },
     "execution_count": 113,
     "metadata": {},
     "output_type": "execute_result"
    }
   ],
   "source": [
    "freq_to_cent([et_fundamentals[0]] + result['x'].tolist())"
   ]
  },
  {
   "cell_type": "code",
   "execution_count": 114,
   "metadata": {},
   "outputs": [
    {
     "data": {
      "text/plain": [
       "[0, 400, 700, 1200]"
      ]
     },
     "execution_count": 114,
     "metadata": {},
     "output_type": "execute_result"
    }
   ],
   "source": [
    "freq_to_cent(et_fundamentals)"
   ]
  },
  {
   "cell_type": "code",
   "execution_count": 115,
   "metadata": {},
   "outputs": [
    {
     "data": {
      "text/plain": [
       "[0, 386, 702, 1200]"
      ]
     },
     "execution_count": 115,
     "metadata": {},
     "output_type": "execute_result"
    }
   ],
   "source": [
    "freq_to_cent(ji_fundamentals)"
   ]
  },
  {
   "cell_type": "markdown",
   "metadata": {
    "heading_collapsed": true
   },
   "source": [
    "## Dissonance curve"
   ]
  },
  {
   "cell_type": "code",
   "execution_count": 50,
   "metadata": {
    "hidden": true
   },
   "outputs": [],
   "source": [
    "import matplotlib.pyplot as plt"
   ]
  },
  {
   "cell_type": "markdown",
   "metadata": {
    "hidden": true
   },
   "source": [
    "This is what the dissonance curve of the dissonance measure implemented in Dissonancereduction looks like:"
   ]
  },
  {
   "cell_type": "code",
   "execution_count": 47,
   "metadata": {
    "hidden": true
   },
   "outputs": [],
   "source": [
    "dissonancereduction = Dissonancereduction()"
   ]
  },
  {
   "cell_type": "code",
   "execution_count": 48,
   "metadata": {
    "hidden": true
   },
   "outputs": [],
   "source": [
    "base_freq = 440\n",
    "partials_pos = list(range(1, len(partials_vol_piano) + 1))\n",
    "partials_vol = partials_vol_piano"
   ]
  },
  {
   "cell_type": "code",
   "execution_count": 52,
   "metadata": {
    "hidden": true
   },
   "outputs": [
    {
     "data": {
      "image/png": "[encoded data removed]",
      "text/plain": [
       "<Figure size 432x288 with 1 Axes>"
      ]
     },
     "metadata": {
      "needs_background": "light"
     },
     "output_type": "display_data"
    }
   ],
   "source": [
    "intervals = np.arange(1, 2, 0.005)\n",
    "\n",
    "fig, ax = plt.subplots()\n",
    "\n",
    "for nr in range(1, 12):\n",
    "    ax.plot(intervals, np.vectorize(\n",
    "        lambda interval: dissonancereduction.single_dissonance_and_gradient(\n",
    "            [base_freq, base_freq * interval], [1, 1],\n",
    "            partials_pos[:nr], partials_vol[:nr]\n",
    "        )[0]\n",
    "    )(intervals), label='%i partials' % nr)\n",
    "ax.legend(bbox_to_anchor=(1.05, 1), loc='upper left', borderaxespad=0.)\n",
    "\n",
    "# reference intevals for the grid:\n",
    "ju_intervals = [1, 16/15, 9/8, 6/5, 5/4, 4/3, 45/32, 3/2, 8/5, 5/3, 9/5, 15/8, 2]\n",
    "et_intervals = [2**(i/12) for i in range(0,13)]\n",
    "degree_names = ['u', 'm2', 'M2', 'm3', 'M3', '4', 't', '5', 'm6', 'M6', 'm7', 'M7', 'o']\n",
    "\n",
    "ax.set_xticks(ju_intervals)\n",
    "ax.set_xticklabels(degree_names)\n",
    "ax.xaxis.grid(True)\n",
    "plt.show()"
   ]
  },
  {
   "cell_type": "markdown",
   "metadata": {
    "hidden": true
   },
   "source": [
    "Not how the local minimum for the minor third becomes much more clear when we add a fifth to the mix."
   ]
  },
  {
   "cell_type": "code",
   "execution_count": 57,
   "metadata": {
    "hidden": true
   },
   "outputs": [
    {
     "data": {
      "image/png": "[encoded data removed]",
      "text/plain": [
       "<Figure size 432x288 with 1 Axes>"
      ]
     },
     "metadata": {
      "needs_background": "light"
     },
     "output_type": "display_data"
    }
   ],
   "source": [
    "intervals = np.arange(1, 2, 0.005)\n",
    "\n",
    "fig, ax = plt.subplots()\n",
    "\n",
    "for nr in range(1, 12):\n",
    "    ax.plot(intervals, np.vectorize(\n",
    "        lambda interval: dissonancereduction.single_dissonance_and_gradient(\n",
    "            [base_freq, base_freq * 3/2, base_freq * interval], [1, 1, 1],\n",
    "            partials_pos[:nr], partials_vol[:nr]\n",
    "        )[0]\n",
    "    )(intervals), label='%i partials' % nr)\n",
    "ax.legend(bbox_to_anchor=(1.05, 1), loc='upper left', borderaxespad=0.)\n",
    "\n",
    "# reference intevals for the grid:\n",
    "ju_intervals = [1, 16/15, 9/8, 6/5, 5/4, 4/3, 45/32, 3/2, 8/5, 5/3, 9/5, 15/8, 2]\n",
    "et_intervals = [2**(i/12) for i in range(0,13)]\n",
    "degree_names = ['u', 'm2', 'M2', 'm3', 'M3', '4', 't', '5', 'm6', 'M6', 'm7', 'M7', 'o']\n",
    "\n",
    "ax.set_xticks(ju_intervals)\n",
    "ax.set_xticklabels(degree_names)\n",
    "ax.xaxis.grid(True)\n",
    "plt.show()"
   ]
  },
  {
   "cell_type": "markdown",
   "metadata": {},
   "source": [
    "## Examples"
   ]
  },
  {
   "cell_type": "markdown",
   "metadata": {},
   "source": [
    "Lets look at some specific examples for tunings found by Dissonancereduction."
   ]
  },
  {
   "cell_type": "code",
   "execution_count": 11,
   "metadata": {},
   "outputs": [],
   "source": [
    "from adaptivetuning import Scale"
   ]
  },
  {
   "cell_type": "code",
   "execution_count": 12,
   "metadata": {},
   "outputs": [],
   "source": [
    "et_scale = Scale()\n",
    "ji_scale = Scale(reference_pitch=60, reference_frequency=260)\n",
    "ji_scale.tune_all_by_interval([1, 16/15, 9/8, 6/5, 5/4, 4/3, 45/32, 3/2, 8/5, 5/3, 9/5, 15/8])\n",
    "at_scale = Scale()"
   ]
  },
  {
   "cell_type": "code",
   "execution_count": 13,
   "metadata": {},
   "outputs": [],
   "source": [
    "dissonancereduction = Dissonancereduction(method='CG', relative_bounds=None)\n",
    "def adaptive_tuning(pitches):\n",
    "    et_fundamentals = et_scale[pitches]\n",
    "    fundamentals_vol = np.ones(len(pitches))\n",
    "    partials_pos = list(range(1, len(partials_vol_piano) + 1))\n",
    "    partials_vol = partials_vol_piano\n",
    "\n",
    "    result = dissonancereduction.tune(np.array(et_fundamentals), np.array(fundamentals_vol),\n",
    "                                      np.array(partials_pos), np.array(partials_vol),\n",
    "                                      [], [])\n",
    "    \n",
    "    at_scale[pitches] = result.x"
   ]
  },
  {
   "cell_type": "code",
   "execution_count": 14,
   "metadata": {},
   "outputs": [
    {
     "name": "stdout",
     "output_type": "stream",
     "text": [
      "Starting sclang...\n",
      "Done.\n",
      "Starting osc communication...\n",
      "This sc3nb sc instance is at port: 57130\n",
      "Done.\n",
      "Registering UDP callback...\n",
      "Done.\n",
      "Booting server...\n",
      "Done.\n",
      "-> sc3nb started\n"
     ]
    }
   ],
   "source": [
    "import sc3nb\n",
    "sc = sc3nb.startup()\n",
    "#sc = None"
   ]
  },
  {
   "cell_type": "code",
   "execution_count": 52,
   "metadata": {},
   "outputs": [],
   "source": [
    "from adaptivetuning import Audiogenerator\n",
    "a = Audiogenerator(sc = sc)\n",
    "a.set_synth_def_with_dict(Audiogenerator.presets['piano'])\n",
    "a.sustain_level = 1"
   ]
  },
  {
   "cell_type": "code",
   "execution_count": 25,
   "metadata": {},
   "outputs": [],
   "source": [
    "def play(pitches):\n",
    "    for p in pitches:\n",
    "        a.note_on(p, 0.5)"
   ]
  },
  {
   "cell_type": "markdown",
   "metadata": {},
   "source": [
    "#### C Major"
   ]
  },
  {
   "cell_type": "code",
   "execution_count": 26,
   "metadata": {},
   "outputs": [
    {
     "name": "stdout",
     "output_type": "stream",
     "text": [
      "ET: [0, 400, 700]\n",
      "JI: [0, 386, 702]\n",
      "AT: [0, 386, 701]\n"
     ]
    }
   ],
   "source": [
    "pitches = [60, 60 + 4, 60 + 7]\n",
    "adaptive_tuning(pitches)\n",
    "print('ET:', freq_to_cent(et_scale[pitches]))\n",
    "print('JI:', freq_to_cent(ji_scale[pitches]))\n",
    "print('AT:', freq_to_cent(at_scale[pitches]))"
   ]
  },
  {
   "cell_type": "code",
   "execution_count": 27,
   "metadata": {},
   "outputs": [],
   "source": [
    "a.scale[pitches] = et_scale[pitches]"
   ]
  },
  {
   "cell_type": "code",
   "execution_count": 28,
   "metadata": {},
   "outputs": [],
   "source": [
    "play(pitches)"
   ]
  },
  {
   "cell_type": "code",
   "execution_count": 29,
   "metadata": {},
   "outputs": [],
   "source": [
    "a.scale[pitches] = ji_scale[pitches]"
   ]
  },
  {
   "cell_type": "code",
   "execution_count": 30,
   "metadata": {},
   "outputs": [],
   "source": [
    "a.scale[pitches] = at_scale[pitches]"
   ]
  },
  {
   "cell_type": "code",
   "execution_count": 31,
   "metadata": {},
   "outputs": [],
   "source": [
    "a.stop_all()"
   ]
  },
  {
   "cell_type": "markdown",
   "metadata": {},
   "source": [
    "You could argue that the perfectly tunes JI version, at least with the synthetic sound being perfectly stable (other than an acoustic instrument it has no variation in amplitude or frequency), actually sounds \"dead\". The adaptive tuning version, since it is not perfectly just, has a bit of movement, but not as restless as the ET version."
   ]
  },
  {
   "cell_type": "markdown",
   "metadata": {},
   "source": [
    "#### C Minor"
   ]
  },
  {
   "cell_type": "code",
   "execution_count": 32,
   "metadata": {},
   "outputs": [
    {
     "name": "stdout",
     "output_type": "stream",
     "text": [
      "ET: [0, 300, 700]\n",
      "JI: [0, 316, 702]\n",
      "AT: [0, 316, 702]\n"
     ]
    }
   ],
   "source": [
    "pitches = [60, 60 + 3, 60 + 7]\n",
    "adaptive_tuning(pitches)\n",
    "print('ET:', freq_to_cent(et_scale[pitches]))\n",
    "print('JI:', freq_to_cent(ji_scale[pitches]))\n",
    "print('AT:', freq_to_cent(at_scale[pitches]))"
   ]
  },
  {
   "cell_type": "code",
   "execution_count": 190,
   "metadata": {},
   "outputs": [],
   "source": [
    "a.scale[pitches] = et_scale[pitches]"
   ]
  },
  {
   "cell_type": "code",
   "execution_count": 185,
   "metadata": {},
   "outputs": [],
   "source": [
    "play(pitches)"
   ]
  },
  {
   "cell_type": "code",
   "execution_count": 191,
   "metadata": {},
   "outputs": [],
   "source": [
    "a.scale[pitches] = ji_scale[pitches]"
   ]
  },
  {
   "cell_type": "code",
   "execution_count": 192,
   "metadata": {},
   "outputs": [],
   "source": [
    "a.scale[pitches] = at_scale[pitches]"
   ]
  },
  {
   "cell_type": "code",
   "execution_count": 193,
   "metadata": {},
   "outputs": [],
   "source": [
    "a.stop_all()"
   ]
  },
  {
   "cell_type": "markdown",
   "metadata": {},
   "source": [
    "#### C sus 2"
   ]
  },
  {
   "cell_type": "markdown",
   "metadata": {},
   "source": [
    "The major second is to close to the tonic, the algorithm tries to push them away from each other at the cost of detuning the fifth."
   ]
  },
  {
   "cell_type": "code",
   "execution_count": 53,
   "metadata": {},
   "outputs": [
    {
     "name": "stdout",
     "output_type": "stream",
     "text": [
      "ET: [0, 200, 700]\n",
      "JI: [0, 204, 702]\n",
      "AT: [0, 219, 712]\n"
     ]
    }
   ],
   "source": [
    "pitches = [60, 60 + 2, 60 + 7]\n",
    "adaptive_tuning(pitches)\n",
    "print('ET:', freq_to_cent(et_scale[pitches]))\n",
    "print('JI:', freq_to_cent(ji_scale[pitches]))\n",
    "print('AT:', freq_to_cent(at_scale[pitches]))"
   ]
  },
  {
   "cell_type": "code",
   "execution_count": 60,
   "metadata": {},
   "outputs": [],
   "source": [
    "a.scale[pitches] = et_scale[pitches]"
   ]
  },
  {
   "cell_type": "code",
   "execution_count": 55,
   "metadata": {},
   "outputs": [],
   "source": [
    "play(pitches)"
   ]
  },
  {
   "cell_type": "code",
   "execution_count": 59,
   "metadata": {},
   "outputs": [],
   "source": [
    "a.scale[pitches] = ji_scale[pitches]"
   ]
  },
  {
   "cell_type": "code",
   "execution_count": 61,
   "metadata": {},
   "outputs": [],
   "source": [
    "a.scale[pitches] = at_scale[pitches]"
   ]
  },
  {
   "cell_type": "code",
   "execution_count": 62,
   "metadata": {},
   "outputs": [],
   "source": [
    "a.stop_all()"
   ]
  },
  {
   "cell_type": "markdown",
   "metadata": {},
   "source": [
    "#### C sus 2$\\flat$"
   ]
  },
  {
   "cell_type": "markdown",
   "metadata": {},
   "source": [
    "For chords that contain intervals that are \"too dissonant\" the results of the adaptive tuning (without bounds) are extreme and unpredictable, in this case the tonic and the minor second 'explode' away from each other."
   ]
  },
  {
   "cell_type": "code",
   "execution_count": 34,
   "metadata": {},
   "outputs": [
    {
     "name": "stdout",
     "output_type": "stream",
     "text": [
      "ET: [0, 100, 700]\n",
      "JI: [0, 112, 702]\n",
      "AT: [0, 2581, 2967]\n"
     ]
    }
   ],
   "source": [
    "pitches = [60, 60 + 1, 60 + 7]\n",
    "adaptive_tuning(pitches)\n",
    "print('ET:', freq_to_cent(et_scale[pitches]))\n",
    "print('JI:', freq_to_cent(ji_scale[pitches]))\n",
    "print('AT:', freq_to_cent(at_scale[pitches]))"
   ]
  },
  {
   "cell_type": "code",
   "execution_count": 207,
   "metadata": {},
   "outputs": [],
   "source": [
    "a.scale[pitches] = et_scale[pitches]"
   ]
  },
  {
   "cell_type": "code",
   "execution_count": 205,
   "metadata": {},
   "outputs": [],
   "source": [
    "play(pitches)"
   ]
  },
  {
   "cell_type": "code",
   "execution_count": 208,
   "metadata": {},
   "outputs": [],
   "source": [
    "a.scale[pitches] = ji_scale[pitches]"
   ]
  },
  {
   "cell_type": "code",
   "execution_count": 209,
   "metadata": {},
   "outputs": [],
   "source": [
    "a.scale[pitches] = at_scale[pitches]"
   ]
  },
  {
   "cell_type": "code",
   "execution_count": 210,
   "metadata": {},
   "outputs": [],
   "source": [
    "a.stop_all()"
   ]
  },
  {
   "cell_type": "markdown",
   "metadata": {},
   "source": [
    "We can prevent this by using an optimization methods that allows for bounds, this will reduce the flexibility of the optimization though."
   ]
  },
  {
   "cell_type": "code",
   "execution_count": 36,
   "metadata": {},
   "outputs": [],
   "source": [
    "dissonancereduction = Dissonancereduction(method='L-BFGS-B', relative_bounds=(2**(-1/24), 2**(1/24)))"
   ]
  },
  {
   "cell_type": "code",
   "execution_count": 37,
   "metadata": {},
   "outputs": [
    {
     "name": "stdout",
     "output_type": "stream",
     "text": [
      "ET: [0, 100, 700]\n",
      "JI: [0, 112, 702]\n",
      "AT: [0, 200, 702]\n"
     ]
    }
   ],
   "source": [
    "pitches = [60, 60 + 1, 60 + 7]\n",
    "adaptive_tuning(pitches)\n",
    "print('ET:', freq_to_cent(et_scale[pitches]))\n",
    "print('JI:', freq_to_cent(ji_scale[pitches]))\n",
    "print('AT:', freq_to_cent(at_scale[pitches]))"
   ]
  },
  {
   "cell_type": "markdown",
   "metadata": {},
   "source": [
    "The algorithm pushes the tonic and the minor second as far from each other as it is allowed to (2 x 1/2 semitone)."
   ]
  },
  {
   "cell_type": "markdown",
   "metadata": {},
   "source": [
    "To observe the 'unfiltered' behavior of the algorithm, we continue without bounds."
   ]
  },
  {
   "cell_type": "code",
   "execution_count": 38,
   "metadata": {},
   "outputs": [],
   "source": [
    "dissonancereduction = Dissonancereduction(method='CG', relative_bounds=None)"
   ]
  },
  {
   "cell_type": "markdown",
   "metadata": {},
   "source": [
    "#### C sus 4"
   ]
  },
  {
   "cell_type": "code",
   "execution_count": 39,
   "metadata": {},
   "outputs": [
    {
     "name": "stdout",
     "output_type": "stream",
     "text": [
      "ET: [0, 500, 700]\n",
      "JI: [0, 498, 702]\n",
      "AT: [0, 493, 712]\n"
     ]
    }
   ],
   "source": [
    "pitches = [60, 60 + 5, 60 + 7]\n",
    "adaptive_tuning(pitches)\n",
    "print('ET:', freq_to_cent(et_scale[pitches]))\n",
    "print('JI:', freq_to_cent(ji_scale[pitches]))\n",
    "print('AT:', freq_to_cent(at_scale[pitches]))"
   ]
  },
  {
   "cell_type": "code",
   "execution_count": 216,
   "metadata": {},
   "outputs": [],
   "source": [
    "a.scale[pitches] = et_scale[pitches]"
   ]
  },
  {
   "cell_type": "code",
   "execution_count": 213,
   "metadata": {},
   "outputs": [],
   "source": [
    "play(pitches)"
   ]
  },
  {
   "cell_type": "code",
   "execution_count": 214,
   "metadata": {},
   "outputs": [],
   "source": [
    "a.scale[pitches] = ji_scale[pitches]"
   ]
  },
  {
   "cell_type": "code",
   "execution_count": 217,
   "metadata": {},
   "outputs": [],
   "source": [
    "a.scale[pitches] = at_scale[pitches]"
   ]
  },
  {
   "cell_type": "code",
   "execution_count": 218,
   "metadata": {},
   "outputs": [],
   "source": [
    "a.stop_all()"
   ]
  },
  {
   "cell_type": "markdown",
   "metadata": {},
   "source": [
    "#### C sus 4$\\sharp$"
   ]
  },
  {
   "cell_type": "markdown",
   "metadata": {},
   "source": [
    "similar to C sus 2$\\flat$"
   ]
  },
  {
   "cell_type": "code",
   "execution_count": 40,
   "metadata": {},
   "outputs": [
    {
     "name": "stdout",
     "output_type": "stream",
     "text": [
      "ET: [0, 600, 700]\n",
      "JI: [0, 590, 702]\n",
      "AT: [0, 492, 712]\n"
     ]
    }
   ],
   "source": [
    "pitches = [60, 60 + 6, 60 + 7]\n",
    "adaptive_tuning(pitches)\n",
    "print('ET:', freq_to_cent(et_scale[pitches]))\n",
    "print('JI:', freq_to_cent(ji_scale[pitches]))\n",
    "print('AT:', freq_to_cent(at_scale[pitches]))"
   ]
  },
  {
   "cell_type": "code",
   "execution_count": 220,
   "metadata": {},
   "outputs": [],
   "source": [
    "a.scale[pitches] = et_scale[pitches]"
   ]
  },
  {
   "cell_type": "code",
   "execution_count": 221,
   "metadata": {},
   "outputs": [],
   "source": [
    "play(pitches)"
   ]
  },
  {
   "cell_type": "code",
   "execution_count": 222,
   "metadata": {},
   "outputs": [],
   "source": [
    "a.scale[pitches] = ji_scale[pitches]"
   ]
  },
  {
   "cell_type": "code",
   "execution_count": 223,
   "metadata": {},
   "outputs": [],
   "source": [
    "a.scale[pitches] = at_scale[pitches]"
   ]
  },
  {
   "cell_type": "code",
   "execution_count": 224,
   "metadata": {},
   "outputs": [],
   "source": [
    "a.stop_all()"
   ]
  },
  {
   "cell_type": "markdown",
   "metadata": {},
   "source": [
    "#### C maj 7"
   ]
  },
  {
   "cell_type": "code",
   "execution_count": 41,
   "metadata": {},
   "outputs": [
    {
     "name": "stdout",
     "output_type": "stream",
     "text": [
      "ET: [0, 400, 700, 1100]\n",
      "JI: [0, 386, 702, 1088]\n",
      "AT: [0, 381, 698, 1079]\n"
     ]
    }
   ],
   "source": [
    "pitches = [60, 60 + 4, 60 + 7, 60 + 11]\n",
    "adaptive_tuning(pitches)\n",
    "print('ET:', freq_to_cent(et_scale[pitches]))\n",
    "print('JI:', freq_to_cent(ji_scale[pitches]))\n",
    "print('AT:', freq_to_cent(at_scale[pitches]))"
   ]
  },
  {
   "cell_type": "code",
   "execution_count": 234,
   "metadata": {},
   "outputs": [],
   "source": [
    "a.scale[pitches] = et_scale[pitches]"
   ]
  },
  {
   "cell_type": "code",
   "execution_count": 227,
   "metadata": {},
   "outputs": [],
   "source": [
    "play(pitches)"
   ]
  },
  {
   "cell_type": "code",
   "execution_count": 230,
   "metadata": {},
   "outputs": [],
   "source": [
    "a.scale[pitches] = ji_scale[pitches]"
   ]
  },
  {
   "cell_type": "code",
   "execution_count": 235,
   "metadata": {},
   "outputs": [],
   "source": [
    "a.scale[pitches] = at_scale[pitches]"
   ]
  },
  {
   "cell_type": "code",
   "execution_count": 236,
   "metadata": {},
   "outputs": [],
   "source": [
    "a.stop_all()"
   ]
  },
  {
   "cell_type": "markdown",
   "metadata": {},
   "source": [
    "#### C min 7"
   ]
  },
  {
   "cell_type": "code",
   "execution_count": 43,
   "metadata": {},
   "outputs": [
    {
     "name": "stdout",
     "output_type": "stream",
     "text": [
      "ET: [0, 300, 700, 1000]\n",
      "JI: [0, 316, 702, 1018]\n",
      "AT: [0, 316, 702, 1018]\n"
     ]
    }
   ],
   "source": [
    "pitches = [60, 60 + 3, 60 + 7, 60 + 10]\n",
    "adaptive_tuning(pitches)\n",
    "print('ET:', freq_to_cent(et_scale[pitches]))\n",
    "print('JI:', freq_to_cent(ji_scale[pitches]))\n",
    "print('AT:', freq_to_cent(at_scale[pitches]))"
   ]
  },
  {
   "cell_type": "code",
   "execution_count": 242,
   "metadata": {},
   "outputs": [],
   "source": [
    "a.scale[pitches] = et_scale[pitches]"
   ]
  },
  {
   "cell_type": "code",
   "execution_count": 239,
   "metadata": {},
   "outputs": [],
   "source": [
    "play(pitches)"
   ]
  },
  {
   "cell_type": "code",
   "execution_count": 240,
   "metadata": {},
   "outputs": [],
   "source": [
    "a.scale[pitches] = ji_scale[pitches]"
   ]
  },
  {
   "cell_type": "code",
   "execution_count": 243,
   "metadata": {},
   "outputs": [],
   "source": [
    "a.scale[pitches] = at_scale[pitches]"
   ]
  },
  {
   "cell_type": "code",
   "execution_count": 244,
   "metadata": {},
   "outputs": [],
   "source": [
    "a.stop_all()"
   ]
  },
  {
   "cell_type": "markdown",
   "metadata": {},
   "source": [
    "#### C7"
   ]
  },
  {
   "cell_type": "markdown",
   "metadata": {},
   "source": [
    "Dissonant minor seventh gets pushed down into the local minimum between the major sixth and the minor seventh that can be seen in the dissonance curves."
   ]
  },
  {
   "cell_type": "code",
   "execution_count": 44,
   "metadata": {},
   "outputs": [
    {
     "name": "stdout",
     "output_type": "stream",
     "text": [
      "ET: [0, 400, 700, 1000]\n",
      "JI: [0, 386, 702, 1018]\n",
      "AT: [0, 387, 703, 968]\n"
     ]
    }
   ],
   "source": [
    "pitches = [60, 60 + 4, 60 + 7, 60 + 10]\n",
    "adaptive_tuning(pitches)\n",
    "print('ET:', freq_to_cent(et_scale[pitches]))\n",
    "print('JI:', freq_to_cent(ji_scale[pitches]))\n",
    "print('AT:', freq_to_cent(at_scale[pitches]))"
   ]
  },
  {
   "cell_type": "code",
   "execution_count": 246,
   "metadata": {},
   "outputs": [],
   "source": [
    "a.scale[pitches] = et_scale[pitches]"
   ]
  },
  {
   "cell_type": "code",
   "execution_count": 247,
   "metadata": {},
   "outputs": [],
   "source": [
    "play(pitches)"
   ]
  },
  {
   "cell_type": "code",
   "execution_count": 248,
   "metadata": {},
   "outputs": [],
   "source": [
    "a.scale[pitches] = ji_scale[pitches]"
   ]
  },
  {
   "cell_type": "code",
   "execution_count": 249,
   "metadata": {},
   "outputs": [],
   "source": [
    "a.scale[pitches] = at_scale[pitches]"
   ]
  },
  {
   "cell_type": "code",
   "execution_count": 250,
   "metadata": {},
   "outputs": [],
   "source": [
    "a.stop_all()"
   ]
  },
  {
   "cell_type": "markdown",
   "metadata": {},
   "source": [
    "#### C major pentatonic cluster"
   ]
  },
  {
   "cell_type": "markdown",
   "metadata": {},
   "source": [
    "It is not possible to tune this chord justly with all fifth = 3/2, all fourth = 4/3 and all major thirds = 5/4. The JI-tuning is even worth than the equal tempered tuning here because the fifth d-a is flat by the syntotic comma. Adaptive tuning provides arguably the best compromise."
   ]
  },
  {
   "cell_type": "code",
   "execution_count": 45,
   "metadata": {},
   "outputs": [
    {
     "name": "stdout",
     "output_type": "stream",
     "text": [
      "ET: [0, 200, 400, 700, 900]\n",
      "JI: [0, 204, 386, 702, 884]\n",
      "AT: [0, 191, 392, 693, 893]\n"
     ]
    }
   ],
   "source": [
    "pitches = [60, 60 + 2, 60 + 4, 60 + 7, 60 + 9]\n",
    "adaptive_tuning(pitches)\n",
    "print('ET:', freq_to_cent(et_scale[pitches]))\n",
    "print('JI:', freq_to_cent(ji_scale[pitches]))\n",
    "print('AT:', freq_to_cent(at_scale[pitches]))"
   ]
  },
  {
   "cell_type": "code",
   "execution_count": 260,
   "metadata": {},
   "outputs": [],
   "source": [
    "a.scale[pitches] = et_scale[pitches]"
   ]
  },
  {
   "cell_type": "code",
   "execution_count": 253,
   "metadata": {},
   "outputs": [],
   "source": [
    "play(pitches)"
   ]
  },
  {
   "cell_type": "code",
   "execution_count": 262,
   "metadata": {},
   "outputs": [],
   "source": [
    "a.scale[pitches] = ji_scale[pitches]"
   ]
  },
  {
   "cell_type": "code",
   "execution_count": 261,
   "metadata": {},
   "outputs": [],
   "source": [
    "a.scale[pitches] = at_scale[pitches]"
   ]
  },
  {
   "cell_type": "code",
   "execution_count": 263,
   "metadata": {},
   "outputs": [],
   "source": [
    "a.stop_all()"
   ]
  },
  {
   "cell_type": "code",
   "execution_count": null,
   "metadata": {},
   "outputs": [],
   "source": []
  }
 ],
 "metadata": {
  "kernelspec": {
   "display_name": "Python [conda env:adaptive_tuning] *",
   "language": "python",
   "name": "conda-env-adaptive_tuning-py"
  },
  "language_info": {
   "codemirror_mode": {
    "name": "ipython",
    "version": 3
   },
   "file_extension": ".py",
   "mimetype": "text/x-python",
   "name": "python",
   "nbconvert_exporter": "python",
   "pygments_lexer": "ipython3",
   "version": "3.7.3"
  }
 },
 "nbformat": 4,
 "nbformat_minor": 2
}
