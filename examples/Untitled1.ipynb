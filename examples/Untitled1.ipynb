{
 "cells": [
  {
   "cell_type": "markdown",
   "metadata": {},
   "source": [
    "# Audio generator"
   ]
  },
  {
   "cell_type": "markdown",
   "metadata": {},
   "source": [
    "## KeyData"
   ]
  },
  {
   "cell_type": "code",
   "execution_count": 1,
   "metadata": {},
   "outputs": [],
   "source": [
    "from adaptivetuning import KeyData"
   ]
  },
  {
   "cell_type": "markdown",
   "metadata": {},
   "source": [
    "A KeyData object stores data about a specific note, and provides a method to calculate the current amplitude from an envelope."
   ]
  },
  {
   "cell_type": "markdown",
   "metadata": {},
   "source": [
    "We can specify a custom function to give a KeyData object the current time, this is very handy for testing purposes."
   ]
  },
  {
   "cell_type": "code",
   "execution_count": 2,
   "metadata": {},
   "outputs": [],
   "source": [
    "now = 0\n",
    "def get_now():\n",
    "    return now"
   ]
  },
  {
   "cell_type": "code",
   "execution_count": 5,
   "metadata": {},
   "outputs": [
    {
     "data": {
      "text/plain": [
       "<matplotlib.lines.Line2D at 0x1192fe2e8>"
      ]
     },
     "execution_count": 5,
     "metadata": {},
     "output_type": "execute_result"
    },
    {
     "data": {
      "image/png": "[encoded data removed]",
      "text/plain": [
       "<Figure size 432x288 with 1 Axes>"
      ]
     },
     "metadata": {
      "needs_background": "light"
     },
     "output_type": "display_data"
    }
   ],
   "source": [
    "import matplotlib.pyplot as plt\n",
    "import numpy as np\n",
    "\n",
    "ts = np.arange(0, 2, 0.01)\n",
    "amps = []\n",
    "now = 0\n",
    "k = KeyData(amplitude=1.2, attack_time=0.1, decay_time=0.2, sustain_level=0.5, release_time=0.5, get_now=get_now)\n",
    "for t in ts:\n",
    "    now = t\n",
    "    amps.append(k.current_amplitude)\n",
    "    if t == 1:\n",
    "        k.release()\n",
    "\n",
    "plt.plot(ts, amps)\n",
    "plt.axhline(1.2, linewidth=0.5, color='grey')\n",
    "plt.axhline(0.6, linewidth=0.5, color='grey')\n",
    "plt.axvline(0, linewidth=0.5, color='grey')\n",
    "plt.axvline(0.1, linewidth=0.5, color='grey')\n",
    "plt.axvline(0.3, linewidth=0.5, color='grey')\n",
    "plt.axvline(1, linewidth=0.5, color='grey')\n",
    "plt.axvline(1.5, linewidth=0.5, color='grey')"
   ]
  },
  {
   "cell_type": "markdown",
   "metadata": {},
   "source": [
    "## Audiogenerator"
   ]
  },
  {
   "cell_type": "code",
   "execution_count": 1,
   "metadata": {},
   "outputs": [
    {
     "data": {
      "application/javascript": [
       "Jupyter.keyboard_manager.command_shortcuts.add_shortcut(\n",
       "                                        'cmd-.', {\n",
       "                                        help : 'sc.cmd(\"s.freeAll\")',\n",
       "                                        help_index : 'zz',\n",
       "                                        handler : function (event) {\n",
       "                                            IPython.notebook.kernel.execute(\"sc.cmd('s.freeAll')\")\n",
       "                                            return true;}\n",
       "                                    });"
      ],
      "text/plain": [
       "<IPython.core.display.Javascript object>"
      ]
     },
     "metadata": {},
     "output_type": "display_data"
    }
   ],
   "source": [
    "from adaptivetuning import Audiogenerator"
   ]
  },
  {
   "cell_type": "markdown",
   "metadata": {},
   "source": [
    "An Audiogenerator object is essentially a simple polyphonic additive synthesizer that is capable of very flexible microtonal tuning."
   ]
  },
  {
   "cell_type": "markdown",
   "metadata": {},
   "source": [
    "It manages a sc3nb.Synthdef and an adaptivetuning.Scale. It allows you to specify the sound of the synth and start and stop tones that are tuned according to the Scale. "
   ]
  },
  {
   "cell_type": "markdown",
   "metadata": {},
   "source": [
    "You can set sc=None (useful for testing), but if you want to hear anything, you have to start a SuperCollider server using sc3nb."
   ]
  },
  {
   "cell_type": "code",
   "execution_count": 2,
   "metadata": {},
   "outputs": [],
   "source": [
    "#import sc3nb\n",
    "#sc = sc3nb.startup() #TODO testen\n",
    "sc = None"
   ]
  },
  {
   "cell_type": "code",
   "execution_count": 3,
   "metadata": {},
   "outputs": [],
   "source": [
    "a = Audiogenerator(sc=sc)"
   ]
  },
  {
   "cell_type": "markdown",
   "metadata": {},
   "source": [
    "Let's make a mallet-style synth with non-harmonic overtones."
   ]
  },
  {
   "cell_type": "code",
   "execution_count": 5,
   "metadata": {},
   "outputs": [],
   "source": [
    "a.attack_time = 0\n",
    "a.decay_time = 0.5\n",
    "a.sustain_level = 0.1\n",
    "a.release_time = 0.1\n",
    "a.partials_pos = [1, 2.01, 2.9, 3.8, 4.1, 5.5]\n",
    "a.partials_amp = [0.6**i for i in range(6)]"
   ]
  },
  {
   "cell_type": "markdown",
   "metadata": {},
   "source": [
    "Let's make a pad-style synth with stretched overtones."
   ]
  },
  {
   "cell_type": "code",
   "execution_count": 8,
   "metadata": {},
   "outputs": [],
   "source": [
    "a.attack_time = 1\n",
    "a.decay_time = 1\n",
    "a.sustain_level = 0.9\n",
    "a.release_time = 2\n",
    "a.partials_pos = {'method': 'harmonic', 'nr_partials': 6, 'octave': 2.5}\n",
    "a.partials_amp = [0.6**i for i in range(6)]"
   ]
  },
  {
   "cell_type": "code",
   "execution_count": 21,
   "metadata": {},
   "outputs": [
    {
     "data": {
      "text/plain": [
       "[1.0, 2.5, 4.272873064374344, 6.25, 8.39436958346665, 10.68218266093586]"
      ]
     },
     "execution_count": 21,
     "metadata": {},
     "output_type": "execute_result"
    }
   ],
   "source": [
    "a.partials_pos"
   ]
  },
  {
   "cell_type": "markdown",
   "metadata": {},
   "source": [
    "And stretch the scale accordingly:"
   ]
  },
  {
   "cell_type": "code",
   "execution_count": 9,
   "metadata": {},
   "outputs": [],
   "source": [
    "a.scale.octave_interval = 2.5\n",
    "a.scale.tune_all_equal_temperament()  # 12TET with streched octave"
   ]
  },
  {
   "cell_type": "markdown",
   "metadata": {},
   "source": [
    "Now we can play some music."
   ]
  },
  {
   "cell_type": "code",
   "execution_count": 17,
   "metadata": {},
   "outputs": [],
   "source": [
    "a.note_on('C4', 1)\n",
    "a.note_on('E4', 1)\n",
    "a.note_on('G4', 1)"
   ]
  },
  {
   "cell_type": "markdown",
   "metadata": {},
   "source": [
    "A stretched C major chord played with a stretched timbre. Pitches can be given as strings or as midi numbers."
   ]
  },
  {
   "cell_type": "markdown",
   "metadata": {},
   "source": [
    "Info about currently playing keys is stored in a dictionary of adaptivetuning.KeyData objects."
   ]
  },
  {
   "cell_type": "code",
   "execution_count": 18,
   "metadata": {},
   "outputs": [
    {
     "data": {
      "text/plain": [
       "True"
      ]
     },
     "execution_count": 18,
     "metadata": {},
     "output_type": "execute_result"
    }
   ],
   "source": [
    "a.keys[60].currently_running"
   ]
  },
  {
   "cell_type": "code",
   "execution_count": 19,
   "metadata": {},
   "outputs": [
    {
     "data": {
      "text/plain": [
       "0.009000000000000001"
      ]
     },
     "execution_count": 19,
     "metadata": {},
     "output_type": "execute_result"
    }
   ],
   "source": [
    "a.keys[60].current_amplitude"
   ]
  },
  {
   "cell_type": "code",
   "execution_count": 20,
   "metadata": {},
   "outputs": [
    {
     "data": {
      "text/plain": [
       "[1.0, 2.5, 4.272873064374344, 6.25, 8.39436958346665, 10.68218266093586]"
      ]
     },
     "execution_count": 20,
     "metadata": {},
     "output_type": "execute_result"
    }
   ],
   "source": [
    "a.keys[60].partials_pos"
   ]
  },
  {
   "cell_type": "code",
   "execution_count": 22,
   "metadata": {},
   "outputs": [],
   "source": [
    "a.note_off('C4')\n",
    "a.note_off('E4')\n",
    "a.note_off('G4')"
   ]
  },
  {
   "cell_type": "code",
   "execution_count": 23,
   "metadata": {},
   "outputs": [
    {
     "data": {
      "text/plain": [
       "False"
      ]
     },
     "execution_count": 23,
     "metadata": {},
     "output_type": "execute_result"
    }
   ],
   "source": [
    "a.keys[69].currently_running"
   ]
  },
  {
   "cell_type": "markdown",
   "metadata": {},
   "source": [
    "a.note_on('C4',1) is equivalent to a.register_note_on('C4',1), a.play_note_on('C4')\n",
    "\n",
    "You can call these methods separately in case you need to have the information about the tones before they are actually sounding, for example to change their tuning in the meantime. Then, a.keys represents not the currently sounding notes but the notes that will sound when they are played with play_note_on"
   ]
  },
  {
   "cell_type": "code",
   "execution_count": 24,
   "metadata": {},
   "outputs": [],
   "source": [
    "a.register_note_on('C4', 1)"
   ]
  },
  {
   "cell_type": "code",
   "execution_count": 25,
   "metadata": {},
   "outputs": [
    {
     "data": {
      "text/plain": [
       "221.30828362419666"
      ]
     },
     "execution_count": 25,
     "metadata": {},
     "output_type": "execute_result"
    }
   ],
   "source": [
    "a.keys[60].frequency"
   ]
  },
  {
   "cell_type": "code",
   "execution_count": 26,
   "metadata": {},
   "outputs": [],
   "source": [
    "a.scale[60] = 260"
   ]
  },
  {
   "cell_type": "code",
   "execution_count": 27,
   "metadata": {},
   "outputs": [
    {
     "data": {
      "text/plain": [
       "260"
      ]
     },
     "execution_count": 27,
     "metadata": {},
     "output_type": "execute_result"
    }
   ],
   "source": [
    "a.keys[60].frequency"
   ]
  },
  {
   "cell_type": "code",
   "execution_count": 29,
   "metadata": {},
   "outputs": [],
   "source": [
    "a.play_note_on(60)"
   ]
  },
  {
   "cell_type": "markdown",
   "metadata": {},
   "source": [
    "To stop all notes fast regardless of their release time, use stop_all."
   ]
  },
  {
   "cell_type": "code",
   "execution_count": 30,
   "metadata": {},
   "outputs": [],
   "source": [
    "a.stop_all()"
   ]
  },
  {
   "cell_type": "code",
   "execution_count": null,
   "metadata": {},
   "outputs": [],
   "source": []
  }
 ],
 "metadata": {
  "kernelspec": {
   "display_name": "Python [conda env:adaptive_tuning] *",
   "language": "python",
   "name": "conda-env-adaptive_tuning-py"
  },
  "language_info": {
   "codemirror_mode": {
    "name": "ipython",
    "version": 3
   },
   "file_extension": ".py",
   "mimetype": "text/x-python",
   "name": "python",
   "nbconvert_exporter": "python",
   "pygments_lexer": "ipython3",
   "version": "3.7.3"
  }
 },
 "nbformat": 4,
 "nbformat_minor": 2
}
