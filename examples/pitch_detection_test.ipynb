{
 "cells": [
  {
   "cell_type": "markdown",
   "metadata": {},
   "source": [
    "Pitch detection test with different sampling rates, block sizes etc."
   ]
  },
  {
   "cell_type": "markdown",
   "metadata": {},
   "source": [
    "Good explanation of fft (german): https://www.cbcity.de/die-fft-mit-python-einfach-erklaert"
   ]
  },
  {
   "cell_type": "markdown",
   "metadata": {},
   "source": [
    "# Setup"
   ]
  },
  {
   "cell_type": "code",
   "execution_count": 9,
   "metadata": {},
   "outputs": [],
   "source": [
    "import time\n",
    "import numpy as np\n",
    "import scipy\n",
    "import pya\n",
    "import matplotlib.pyplot as plt"
   ]
  },
  {
   "cell_type": "code",
   "execution_count": 10,
   "metadata": {},
   "outputs": [
    {
     "data": {
      "text/plain": [
       "AServer: sr: 44100, blocksize: 1024,\n",
       "         Stream Active: True, Device: Built-in Output, Index: 1"
      ]
     },
     "execution_count": 10,
     "metadata": {},
     "output_type": "execute_result"
    }
   ],
   "source": [
    "server = pya.Aserver(bs=1024)  \n",
    "pya.Aserver.default = server  # set default Aserver to use play() w/o explicit arg\n",
    "server.boot()"
   ]
  },
  {
   "cell_type": "markdown",
   "metadata": {},
   "source": [
    "# Definitions"
   ]
  },
  {
   "cell_type": "code",
   "execution_count": 11,
   "metadata": {},
   "outputs": [],
   "source": [
    "def create_test_signal(duration, frequency, signal_amp, noise_amp, sample_rate = 44100):\n",
    "    \"\"\"Creates a test signal, consisting of a singel sine-wave of given frequency + noise.\"\"\"\n",
    "\n",
    "    signal = pya.Ugen().sine(freq=frequency, amp=signal_amp, dur=duration, sr=sample_rate)\n",
    "    noise = pya.Ugen().noise(type=\"pink\", amp=1, dur=duration, sr=sample_rate).norm(2)\n",
    "    noise += pya.Asig(-1 * np.ones(int(duration) * sample_rate), sr=sample_rate)\n",
    "    noise *= noise_amp\n",
    "    # it's very annoying that the noise (both types of noise) are not centered around zero...\n",
    "    \n",
    "    return signal + noise"
   ]
  },
  {
   "cell_type": "code",
   "execution_count": 12,
   "metadata": {},
   "outputs": [],
   "source": [
    "def analyze_signal(signal, sample_rate=44100, low_cut=20, high_cut=18000,\n",
    "                   prominence_threshold=0.015, plot=False, fft_alg=3):\n",
    "    \"\"\"Finds prominent frequencies in a given Signal.\n",
    "    \n",
    "    Parameters\n",
    "    ----------\n",
    "    signal: np.array\n",
    "        The signal to be analyzed\n",
    "    sample_rate: int\n",
    "        The sample rate of the signal to be analyzed\n",
    "    low_cut: int\n",
    "        The lowest frequency (in Hz) to be included in the analysis. (Default value = 90)\n",
    "    high_cut: int\n",
    "        The highest frequency (in Hz) to be included in the analysis. (Default value = 15000)\n",
    "    prominence_threshold: float\n",
    "        Minimal prominence of peaks (see scipy.signal.find_peaks).\n",
    "    plot: bool\n",
    "        If plot is True, the spectrum of the analyzed signal will be plotted. (Default value = False)\n",
    "    fft_alg: 1, 2 or 3\n",
    "        The implementation of the fast fourier transformation to be used for the analysis.\n",
    "        1: np.fft.rfft\n",
    "        2: np.fft.hfft\n",
    "        3: scipy.fftpack.rfft\n",
    "        \n",
    "    Returns\n",
    "    -------\n",
    "    peaks_freq: list of floats\n",
    "        A list of the approximated frequencies of the ten most prominent peaks, sorted by prominence.\n",
    "    peaks_amp: list of floats\n",
    "        A list of the approximated volumes of the ten most prominent peaks, sorted by prominence.\n",
    "    \n",
    "    \"\"\"\n",
    "    nr_samples = signal.size\n",
    "    \n",
    "    # normalize\n",
    "    signal -= np.mean(signal)\n",
    "    max_amp = np.max(np.abs(signal))\n",
    "    signal /= max_amp\n",
    "    \n",
    "    if fft_alg == 1:\n",
    "        index_to_freq_factor = sample_rate / nr_samples\n",
    "        low_i = int(low_cut / index_to_freq_factor)\n",
    "        high_i = int(high_cut / index_to_freq_factor)\n",
    "        spectrum = np.abs(np.fft.rfft(signal)[low_i:high_i]) / nr_samples * 2\n",
    "    elif fft_alg == 2:\n",
    "        index_to_freq_factor = 0.5 * sample_rate / nr_samples\n",
    "        low_i = int(low_cut / index_to_freq_factor)\n",
    "        high_i = int(high_cut / index_to_freq_factor)\n",
    "        spectrum = np.abs(np.fft.hfft(signal)[low_i:high_i]) / nr_samples * 2\n",
    "    elif fft_alg == 3:\n",
    "        index_to_freq_factor = 0.5 * sample_rate / nr_samples\n",
    "        low_i = int(low_cut / index_to_freq_factor)\n",
    "        high_i = int(high_cut / index_to_freq_factor)\n",
    "        # set overwrite_x True if you don't need the signal afterwards to be even faster!\n",
    "        spectrum = np.abs(scipy.fftpack.rfft(signal, overwrite_x=False)[low_i:high_i]) / nr_samples * 2\n",
    "    \n",
    "    peaks, properties = scipy.signal.find_peaks(spectrum, prominence=prominence_threshold)\n",
    "    prominences = properties['prominences']\n",
    "    most_prominent = peaks[sorted(range(prominences.size), key=lambda i: - prominences[i])[:10]]\n",
    "    peaks_amp = max_amp * spectrum[most_prominent]  # denormalized\n",
    "    peaks_freq = (most_prominent + low_i) * index_to_freq_factor\n",
    "    \n",
    "    if plot:\n",
    "        plt.semilogx(np.linspace(low_cut, high_cut, high_i - low_i), max_amp * spectrum, label='Spectrum')\n",
    "        plt.plot(peaks_freq, peaks_amp, 'o', label='Found peaks')\n",
    "        plt.legend()\n",
    "        plt.grid(True)\n",
    "    \n",
    "    return peaks_freq, peaks_amp"
   ]
  },
  {
   "cell_type": "code",
   "execution_count": 13,
   "metadata": {
    "code_folding": []
   },
   "outputs": [],
   "source": [
    "def evaluate_analyzer(fft_alg,\n",
    "                      min_dur_factor = 1, max_duration_factor = 30,\n",
    "                      sample_rate = 44100, downsample_factors = [1,2,4,8], runs_per_dur = 3,\n",
    "                      test_recording = \"audio_files/recording-20190730-082916_amp.wav\",\n",
    "                      signal_freq = 349.91, signal_amp = 0.008616,\n",
    "                      signal_noise_ratio = 0.2):\n",
    "    \"\"\"Evaluates the performance of the analyze_signal function\n",
    "    The functions measures the computation time, the frequency error and the volume error for every duration and\n",
    "    every downsample facor.\n",
    "    \n",
    "    Frequency error is the difference between signal_freq and the closest frequency in the tenmost\n",
    "    prominent found frequencies, volume error is the difference between signal_amp (or\n",
    "    signal_noise_ratio / (1 + signal_noise_ratio) for synthesized signals) and the sum of all of the ten most \n",
    "    prominent frequencies that are not more than 10 Hz away from signal_freq.\n",
    "    \n",
    "    The time needed for the fft depends heavily on the factorization of the number of samples\n",
    "    so just testing durations in np.linspace(min_dur, max_dur, nr_runs) is not an option.\n",
    "    To controll the factorization of the number of samples, I test durations in\n",
    "    [2**12 * i / sample_rate for i in range(min_dur_factor,max_dur_factor)].\n",
    "    For the default values, this yealds 30 durations from ca 0.1 to 2.8 seconds.\n",
    "    \n",
    "    Parameters\n",
    "    ----------\n",
    "    fft_alg: 1, 2 or 3\n",
    "        The implementation of the fast fourier transformation to be used for the analysis.\n",
    "        1: np.fft.rfft\n",
    "        2: np.fft.hfft\n",
    "        3: scipy.fftpack.rfft\n",
    "    min_dur_factor: int\n",
    "        The minimum Duration to be analyzed is 2**12 * min_dur_factor / sample_rate. (Default value = 1)\n",
    "    max_duration_factor: int\n",
    "        The maximum Duration to be analyzed is 2**12 * min_dur_factor / sample_rate. (Default value = 30)\n",
    "    sample_rate: int\n",
    "        The sample rate of the signal to be analyzed.\n",
    "    downsample_factors: list\n",
    "        A list of the downsample factors to be tested for each duration. (Default value = [1,2,4,8])\n",
    "    runs_per_dur: int\n",
    "        The number of test runs for every duration and every downsample factor. (Default value = 3)\n",
    "    test_recording: None or String\n",
    "        If a path to a wav recording is given, this recording is analyzed,\n",
    "        if None is given, a synthetic Signal is synthesized with create_test_signal.\n",
    "        (Default value = \"audio_files/recording-20190730-082916_amp.wav\", a recording of my humming guitar amp)\n",
    "    signal_freq: float\n",
    "        Most prominent frequency of the recording or (if test_recording is None) the frequency of the \n",
    "        sine wave of the synthesized signal.\n",
    "        (Default value = 349.91, most prominent frequency of my humming amp)\n",
    "    signal_amp: float\n",
    "        The volume of the most prominent frequency of the recording or (only test_recording is not None).\n",
    "        (Default value = 0.008616, volume of most prominent frequency of my humming amp)\n",
    "    signal_noise_ratio:\n",
    "        The volume to noise ratio of the synthsized signal (only if test_recordning is None). (Default value = 0.2)\n",
    "    \n",
    "    Returns\n",
    "    -------\n",
    "    results: a dictionary of dictionarys\n",
    "        A dictionary for every given downsample factors that contains:\n",
    "        A list of tested durations,\n",
    "        A list of computation times for each tested duration,\n",
    "        The standard deviations per the run for each of those times,\n",
    "        A list of frequency errors for each tested duration,\n",
    "        A list of errors in volume for each tested duration.\n",
    "    \"\"\"\n",
    "\n",
    "    results = {i: {'durations': [], 'times': [], 'time sd': [], 'freq errors': [], 'amp errors': []}\n",
    "               for i in downsample_factors}\n",
    "\n",
    "    for nr_samples in [2**12 * i for i in range(min_dur_factor, max_duration_factor + 1)]:\n",
    "        dur = nr_samples / sample_rate\n",
    "\n",
    "        # create test signal\n",
    "        if test_recording is None:\n",
    "            signal_amp = signal_noise_ratio / (1 + signal_noise_ratio)\n",
    "            noise_amp = 1 / (1 + signal_noise_ratio)\n",
    "            signal = create_test_signal(dur, signal_freq, signal_amp, noise_amp)\n",
    "        else:\n",
    "            signal = pya.Asig(test_recording, label='test_recording')[3*nr_samples:4*nr_samples].mono()\n",
    "\n",
    "        for i in results:\n",
    "            \n",
    "            # downsample\n",
    "            if i > 1:\n",
    "                sample_rate_local = sample_rate // i\n",
    "                s = signal.resample(target_sr=sample_rate_local)\n",
    "            else:\n",
    "                sample_rate_local = sample_rate\n",
    "                s = signal\n",
    "\n",
    "            times = []\n",
    "            freq_errors = []\n",
    "            amp_errors = []\n",
    "            for _ in range(runs_per_dur):\n",
    "                start = time.time()\n",
    "                freqs, amps = analyze_signal(s.sig, sample_rate=sample_rate_local, fft_alg=fft_alg)\n",
    "                times.append(time.time() - start)\n",
    "\n",
    "                good_freqs = [f for f in freqs if abs(signal_freq - f) < 10]\n",
    "                if len(good_freqs) > 0:\n",
    "                    freq_errors.append(min([abs(signal_freq - f) for f in freqs]))\n",
    "                else:\n",
    "                    freq_errors.append(np.nan)\n",
    "\n",
    "                good_amps = [amps[i] for i in range(len(freqs)) if abs(signal_freq - freqs[i]) < 10]\n",
    "                if len(good_amps) > 0:\n",
    "                    amp_errors.append(abs(signal_amp - sum(good_amps)))\n",
    "                else:\n",
    "                    amp_errors.append(np.nan)\n",
    "            results[i]['durations'].append(dur)\n",
    "            results[i]['times'].append(np.mean(times))\n",
    "            results[i]['time sd'].append(np.std(times))\n",
    "            results[i]['freq errors'].append(np.mean(freq_errors))\n",
    "            results[i]['amp errors'].append(np.mean(amp_errors))\n",
    "            \n",
    "    return results"
   ]
  },
  {
   "cell_type": "markdown",
   "metadata": {},
   "source": [
    "# Evaluation"
   ]
  },
  {
   "cell_type": "code",
   "execution_count": 14,
   "metadata": {},
   "outputs": [],
   "source": [
    "# scipy.fftpack.rfft has some strange computation times:\n",
    "# for some reason i = 23 yealds an extremely high time (16 s) and I have no idea why\n",
    "# similar i = 15 yealds an moderately high time for downsample 4 and I have no idea why\n",
    "# (both for default evaluation values)\n",
    "\n",
    "# np.fft.hfft is similar to scipy.fftpack.rfft without strange computation times\n",
    "\n",
    "# np.fft.rfft is by far the fastest, less inexplicable peaks and fastest convergence to low errors!\n",
    "\n",
    "# regarding the other other parameters I decided for downsample 8,\n",
    "# i = 8 dh nr samples = 2**15 dh. duration ca. 0.74 s\n",
    "\n",
    "# it would be a good idea to test this with more different recordings though\n",
    "\n",
    "min_dur_factor = 5\n",
    "downsample_factors = [8]#[1,2,4,8]\n",
    "\n",
    "#test_recording =  None\n",
    "test_recording = \"audio_files/recording-20190730-082916_amp.wav\"\n",
    "results = evaluate_analyzer(fft_alg=1, min_dur_factor=min_dur_factor,\n",
    "                            downsample_factors=downsample_factors, test_recording=test_recording)\n",
    "\n",
    "# test with the other recording\n",
    "#signal_freq = 380.41992188  # identified as dominant frequency when i = 15 (very rough approximation!)\n",
    "#signal_amp = 0.06\n",
    "#test_recording = \"audio_files/recording-20190904-082529_bib_noise_machine.wav\"\n",
    "#results = evaluate_analyzer(fft_alg=1, min_dur_factor=min_dur_factor,\n",
    "#                            signal_freq=signal_freq, signal_amp=signal_amp,\n",
    "#                            downsample_factors=downsample_factors, test_recording=test_recording)"
   ]
  },
  {
   "cell_type": "code",
   "execution_count": 15,
   "metadata": {},
   "outputs": [
    {
     "data": {
      "image/png": "[encoded data removed]",
      "text/plain": [
       "<Figure size 432x288 with 1 Axes>"
      ]
     },
     "metadata": {
      "needs_background": "light"
     },
     "output_type": "display_data"
    }
   ],
   "source": [
    "fig, ax = plt.subplots()\n",
    "\n",
    "for i in results:\n",
    "    ax.step(results[i]['durations'], results[i]['times'], label=\"downsample factor: %i\" % i)\n",
    "\n",
    "ax.set(xlabel='block size (s)', ylabel='computation time (s)',\n",
    "       title='computation time')\n",
    "ax.legend()\n",
    "\n",
    "#fig.savefig(\"test.png\")\n",
    "plt.show()"
   ]
  },
  {
   "cell_type": "code",
   "execution_count": 16,
   "metadata": {},
   "outputs": [
    {
     "data": {
      "image/png": "[encoded data removed]",
      "text/plain": [
       "<Figure size 432x288 with 1 Axes>"
      ]
     },
     "metadata": {
      "needs_background": "light"
     },
     "output_type": "display_data"
    }
   ],
   "source": [
    "fig, ax = plt.subplots()\n",
    "\n",
    "for i in results:\n",
    "    ax.step(results[i]['durations'], results[i]['freq errors'], label=\"downsample factor: %i\" % i)\n",
    "\n",
    "ax.set(xlabel='block size (s)', ylabel='frequency error (Hz)',\n",
    "       title='frequency error')\n",
    "ax.legend()\n",
    "\n",
    "#fig.savefig(\"test.png\")\n",
    "plt.show()"
   ]
  },
  {
   "cell_type": "code",
   "execution_count": 17,
   "metadata": {},
   "outputs": [
    {
     "data": {
      "image/png": "[encoded data removed]",
      "text/plain": [
       "<Figure size 432x288 with 1 Axes>"
      ]
     },
     "metadata": {
      "needs_background": "light"
     },
     "output_type": "display_data"
    }
   ],
   "source": [
    "fig, ax = plt.subplots()\n",
    "\n",
    "for i in results:\n",
    "    ax.step(results[i]['durations'], results[i]['amp errors'], label=\"downsample factor: %i\" % i)\n",
    "\n",
    "ax.set(xlabel='block size (s)', ylabel='amp error',\n",
    "       title='amp error')\n",
    "ax.legend()\n",
    "\n",
    "#fig.savefig(\"test.png\")\n",
    "plt.show()\n"
   ]
  },
  {
   "cell_type": "code",
   "execution_count": 18,
   "metadata": {},
   "outputs": [
    {
     "name": "stdout",
     "output_type": "stream",
     "text": [
      "Duration:         0.7430385487528345\n",
      "Computation time: 0.0027480125427246094\n",
      "Frequency error:  0.05825396825395046\n",
      "Amp error:        0.026736903996025522\n"
     ]
    }
   ],
   "source": [
    "# look at specific i\n",
    "\n",
    "# result: especially for the synthetic test signals,\n",
    "# even i yields lower frequency errors than odd ones\n",
    "# (for amp errors it seems to depend on the signal which one yields lower errors)\n",
    "# -> we will get clearer plots if we plot even and odd i seperately\n",
    "\n",
    "i = 8\n",
    "downsample_factor = 8\n",
    "assert i >= min_dur_factor\n",
    "i -= min_dur_factor\n",
    "print(\"Duration:         \" + str(results[downsample_factor]['durations'][i]))\n",
    "print(\"Computation time: \" + str(results[downsample_factor]['times'][i]))\n",
    "print(\"Frequency error:  \" + str(results[downsample_factor]['freq errors'][i]))\n",
    "print(\"Amp error:        \" + str(results[downsample_factor]['amp errors'][i]))"
   ]
  },
  {
   "cell_type": "code",
   "execution_count": 19,
   "metadata": {},
   "outputs": [
    {
     "data": {
      "image/png": "[encoded data removed]",
      "text/plain": [
       "<Figure size 432x288 with 1 Axes>"
      ]
     },
     "metadata": {
      "needs_background": "light"
     },
     "output_type": "display_data"
    }
   ],
   "source": [
    "fig, ax = plt.subplots()\n",
    "\n",
    "for i in results:\n",
    "    nr_durations = len(results[i]['durations'])\n",
    "    ax.step(\n",
    "        [results[i]['durations'][j] for j in range(nr_durations) if (j+min_dur_factor)%2 == 0],\n",
    "        [results[i]['freq errors'][j] for j in range(nr_durations) if (j+min_dur_factor)%2 == 0], 'o',\n",
    "        label=\"downsample factor: %i, even\" % i\n",
    "    )\n",
    "    ax.step(\n",
    "        [results[i]['durations'][j] for j in range(nr_durations) if (j+min_dur_factor)%2 == 1],\n",
    "        [results[i]['freq errors'][j] for j in range(nr_durations) if (j+min_dur_factor)%2 == 1], 'o',\n",
    "        label=\"downsample factor: %i, odd\" % i\n",
    "    )\n",
    "\n",
    "ax.set(xlabel='block size (s)', ylabel='frequency error (Hz)',\n",
    "       title='frequency error')\n",
    "ax.legend()\n",
    "\n",
    "#fig.savefig(\"test.png\")\n",
    "plt.show()"
   ]
  },
  {
   "cell_type": "code",
   "execution_count": 20,
   "metadata": {},
   "outputs": [
    {
     "data": {
      "image/png": "[encoded data removed]",
      "text/plain": [
       "<Figure size 432x288 with 1 Axes>"
      ]
     },
     "metadata": {
      "needs_background": "light"
     },
     "output_type": "display_data"
    }
   ],
   "source": [
    "fig, ax = plt.subplots()\n",
    "\n",
    "for i in results:\n",
    "    nr_durations = len(results[i]['durations'])\n",
    "    ax.step(\n",
    "        [results[i]['durations'][j] for j in range(nr_durations) if (j+min_dur_factor)%2 == 0],\n",
    "        [results[i]['amp errors'][j] for j in range(nr_durations) if (j+min_dur_factor)%2 == 0], 'o',\n",
    "        label=\"downsample factor: %i, even\" % i\n",
    "    )\n",
    "    ax.step(\n",
    "        [results[i]['durations'][j] for j in range(nr_durations) if (j+min_dur_factor)%2 == 1],\n",
    "        [results[i]['amp errors'][j] for j in range(nr_durations) if (j+min_dur_factor)%2 == 1], 'o',\n",
    "        label=\"downsample factor: %i, odd\" % i\n",
    "    )\n",
    "\n",
    "ax.set(xlabel='block size (s)', ylabel='amp error',\n",
    "       title='amp error')\n",
    "ax.legend()\n",
    "\n",
    "#fig.savefig(\"test.png\")\n",
    "plt.show()"
   ]
  },
  {
   "cell_type": "code",
   "execution_count": 21,
   "metadata": {},
   "outputs": [
    {
     "name": "stdout",
     "output_type": "stream",
     "text": [
      "1.5789569160997732\n",
      "0.2\n"
     ]
    },
    {
     "data": {
      "text/plain": [
       "(array([1000.02728631, 2001.32123162]), array([0.20160855, 0.13990522]))"
      ]
     },
     "execution_count": 21,
     "metadata": {},
     "output_type": "execute_result"
    },
    {
     "data": {
      "image/png": "[encoded data removed]",
      "text/plain": [
       "<Figure size 432x288 with 1 Axes>"
      ]
     },
     "metadata": {
      "needs_background": "light"
     },
     "output_type": "display_data"
    }
   ],
   "source": [
    "# manual test\n",
    "# looks like measured intensity of sine depends heavily on the relation of frequency of sine and duration\n",
    "# for i = 17, freq = 1000, 2000, 3000, 4000 allmost no error\n",
    "# but for i = 17, freq = 1001, 2001 etc. high error!\n",
    "# This result does not even fanish for giant blocksize like i=441*5 , dur = 204.8 sec!\n",
    "i = 17\n",
    "dur = 2**12 * i / 44100\n",
    "print(dur)\n",
    "#dur = 2.0\n",
    "#signal_noise_ratio = 1 / 14\n",
    "signal_freq = 1000\n",
    "signal_amp = 0.2 # signal_noise_ratio / (1 + signal_noise_ratio)\n",
    "print(signal_amp)\n",
    "noise_amp = 0.8 #1 / (1 + signal_noise_ratio)\n",
    "signal = create_test_signal(dur, signal_freq, signal_amp, noise_amp) + create_test_signal(dur, 2001, 0.2, noise_amp)\n",
    "analyze_signal(signal.sig, plot=True, fft_alg=1)"
   ]
  },
  {
   "cell_type": "code",
   "execution_count": 22,
   "metadata": {},
   "outputs": [
    {
     "name": "stdout",
     "output_type": "stream",
     "text": [
      "2.6006349206349206\n"
     ]
    },
    {
     "data": {
      "text/plain": [
       "(array([ 349.91455078,  249.93896484,  449.89013672,  649.84130859,\n",
       "         749.81689453, 1350.05493164,  149.96337891, 1450.03051758,\n",
       "        1749.95727539, 1050.12817383]),\n",
       " array([0.00705142, 0.0067077 , 0.00646069, 0.00278941, 0.00250887,\n",
       "        0.00213524, 0.00181693, 0.00115382, 0.00102732, 0.00094502]))"
      ]
     },
     "execution_count": 22,
     "metadata": {},
     "output_type": "execute_result"
    },
    {
     "data": {
      "image/png": "[encoded data removed]",
      "text/plain": [
       "<Figure size 432x288 with 1 Axes>"
      ]
     },
     "metadata": {
      "needs_background": "light"
     },
     "output_type": "display_data"
    }
   ],
   "source": [
    "# manual test with recorded noise\n",
    "i = 28\n",
    "nr_samples = 2**12 * i\n",
    "sample_rate = 44100\n",
    "dur = nr_samples / sample_rate\n",
    "print(dur)\n",
    "signal_freq = 349.91455078  # identified as dominant frequency when i = 28 for alg 1, i = 34 for alg 2,3\n",
    "signal_amp = 0.00861599\n",
    "signal = pya.Asig(\"audio_files/recording-20190730-082916_amp.wav\", label='amp')[3*nr_samples:4*nr_samples].mono()\n",
    "analyze_signal(signal.sig, plot=True, fft_alg=1)"
   ]
  },
  {
   "cell_type": "code",
   "execution_count": 44,
   "metadata": {},
   "outputs": [
    {
     "name": "stdout",
     "output_type": "stream",
     "text": [
      "1.486077097505669\n"
     ]
    },
    {
     "data": {
      "text/plain": [
       "(array([380.19561768, 395.67260742, 394.32678223, 304.15649414,\n",
       "        371.44775391, 683.67919922, 663.49182129, 513.43231201,\n",
       "        508.04901123, 376.83105469]),\n",
       " array([0.05574747, 0.01270917, 0.01144215, 0.00840973, 0.00796403,\n",
       "        0.00695711, 0.00671372, 0.0065493 , 0.00593247, 0.00559229]))"
      ]
     },
     "execution_count": 44,
     "metadata": {},
     "output_type": "execute_result"
    },
    {
     "data": {
      "image/png": "[encoded data removed]",
      "text/plain": [
       "<Figure size 432x288 with 1 Axes>"
      ]
     },
     "metadata": {
      "needs_background": "light"
     },
     "output_type": "display_data"
    }
   ],
   "source": [
    "# manual test with the other recorded noise\n",
    "i = 16\n",
    "nr_samples = 2**12 * i\n",
    "sample_rate = 44100\n",
    "dur = nr_samples / sample_rate\n",
    "print(dur)\n",
    "signal_freq = 380.41992188  # identified as dominant frequency when i = 15\n",
    "signal_amp = 0.06093136\n",
    "signal = pya.Asig(\"audio_files/recording-20190904-082529_bib_noise_machine.wav\", label='amp')[3*nr_samples:4*nr_samples].mono()\n",
    "analyze_signal(signal.sig, plot=True, fft_alg=1)"
   ]
  },
  {
   "cell_type": "markdown",
   "metadata": {},
   "source": [
    "# Test peak detection"
   ]
  },
  {
   "cell_type": "code",
   "execution_count": 39,
   "metadata": {},
   "outputs": [
    {
     "name": "stdout",
     "output_type": "stream",
     "text": [
      "Real peaks (for synthesized signal): [110.0, 220.0, 440, 880, 1760, 3520, 7040]\n",
      "Real amp (for synthesized signal): 0.047619047619047616\n",
      "Found peaks:[ 880.16967773 1760.33935547  440.08483887 7040.01159668 3520.67871094\n",
      "  219.36950684]\n",
      "Found amps:[0.0472679  0.04507087 0.0446843  0.04293635 0.03258509 0.03153459]\n"
     ]
    },
    {
     "data": {
      "image/png": "[encoded data removed]",
      "text/plain": [
       "<Figure size 432x288 with 1 Axes>"
      ]
     },
     "metadata": {
      "needs_background": "light"
     },
     "output_type": "display_data"
    }
   ],
   "source": [
    "# Find optimal value for the prominence_threshold parameter\n",
    "\n",
    "\n",
    "signal_freqs = [440 * 2**i for i in range(-2, 5)]\n",
    "#signal_freqs = [440]\n",
    "signal_noise_ratio = 0.05\n",
    "\n",
    "prominence_threshold = 0.015\n",
    "max_nr_peaks = None\n",
    "\n",
    "sample_rate = 44100\n",
    "nr_samples = 2**15\n",
    "dur = 2**15 / sample_rate\n",
    "low_cut = 150\n",
    "high_cut = 15000\n",
    "\n",
    "signal_amp = signal_noise_ratio / (1 + signal_noise_ratio)\n",
    "noise_amp = 1 / (1 + signal_noise_ratio)\n",
    "\n",
    "signals = [create_test_signal(dur, f, signal_amp, 0) for f in signal_freqs]\n",
    "signal = sum(signals) + create_test_signal(dur, 123, 0, noise_amp)\n",
    "#signal = pya.Asig(\"audio_files/recording-20190730-082916_amp.wav\", label='amp')[5*nr_samples:6*nr_samples].mono()\n",
    "#signal = pya.Asig(\"audio_files/recording-20190904-082529_bib_noise_machine.wav\", label='amp')[1*nr_samples:2*nr_samples].mono()\n",
    "\n",
    "\n",
    "\n",
    "#to np.array and normalize\n",
    "sig = signal.sig\n",
    "sig = sig - np.mean(sig)\n",
    "max_amp = np.max(np.abs(sig))\n",
    "sig /= max_amp\n",
    "\n",
    "index_to_freq_factor = sample_rate / nr_samples\n",
    "low_i = int(low_cut / index_to_freq_factor)\n",
    "high_i = int(high_cut / index_to_freq_factor)\n",
    "spectrum = np.abs(np.fft.rfft(sig)[low_i:high_i]) / nr_samples * 2\n",
    "\n",
    "spectrum_mean = np.mean(spectrum)  # mean\n",
    "spectrum_std = np.std(spectrum)  # standard derivation\n",
    "\n",
    "peaks, properties = scipy.signal.find_peaks(spectrum, prominence=prominence_threshold)\n",
    "prominences = properties['prominences']\n",
    "most_prominent = peaks[sorted(range(prominences.size), key=lambda i: - prominences[i])[:max_nr_peaks]]\n",
    "peaks_amp = spectrum[most_prominent]\n",
    "peaks_amp *= max_amp  # denormalize\n",
    "spectrum *= max_amp  # denormalize\n",
    "spectrum_mean *= max_amp  # denormalize\n",
    "spectrum_std *= max_amp  # denormalize\n",
    "peaks_freq = (most_prominent + low_i) * index_to_freq_factor\n",
    "\n",
    "print(\"Real peaks (for synthesized signal): \" + str(signal_freqs))\n",
    "print(\"Real amp (for synthesized signal): \" + str(signal_amp))\n",
    "print(\"Found peaks:\" + str(peaks_freq))\n",
    "print(\"Found amps:\" + str(peaks_amp))\n",
    "fig, ax = plt.subplots()\n",
    "ax.semilogx(np.linspace(low_cut, high_cut, high_i - low_i), spectrum, label='spectrum')\n",
    "ax.plot(peaks_freq, peaks_amp, 'o', label='Found peaks')\n",
    "ax.axhline(spectrum_mean, color='r', label='Spectrum mean')\n",
    "ax.axhline(spectrum_mean + spectrum_std, color='orange', label='mean + std')\n",
    "ax.legend()\n",
    "ax.set_xticks(signal_freqs)\n",
    "ax.set_xticklabels(signal_freqs)\n",
    "plt.grid(True)"
   ]
  },
  {
   "cell_type": "code",
   "execution_count": 573,
   "metadata": {},
   "outputs": [
    {
     "data": {
      "text/plain": [
       "Asig(''): 1 x 32768 @ 44100Hz = 0.743s cn=['0']"
      ]
     },
     "execution_count": 573,
     "metadata": {},
     "output_type": "execute_result"
    }
   ],
   "source": [
    "pya.Asig(sig).play()"
   ]
  },
  {
   "cell_type": "code",
   "execution_count": null,
   "metadata": {},
   "outputs": [],
   "source": []
  }
 ],
 "metadata": {
  "kernelspec": {
   "display_name": "Python [conda env:adaptive_tuning] *",
   "language": "python",
   "name": "conda-env-adaptive_tuning-py"
  },
  "language_info": {
   "codemirror_mode": {
    "name": "ipython",
    "version": 3
   },
   "file_extension": ".py",
   "mimetype": "text/x-python",
   "name": "python",
   "nbconvert_exporter": "python",
   "pygments_lexer": "ipython3",
   "version": "3.7.3"
  }
 },
 "nbformat": 4,
 "nbformat_minor": 2
}
