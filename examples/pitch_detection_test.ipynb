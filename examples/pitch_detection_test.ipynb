{
 "cells": [
  {
   "cell_type": "markdown",
   "metadata": {},
   "source": [
    "pitch detection test with different sampling rates, block sizes etc."
   ]
  },
  {
   "cell_type": "markdown",
   "metadata": {},
   "source": [
    "# Setup"
   ]
  },
  {
   "cell_type": "code",
   "execution_count": 57,
   "metadata": {},
   "outputs": [],
   "source": [
    "import time\n",
    "import numpy as np\n",
    "import scipy\n",
    "import pya\n",
    "import matplotlib.pyplot as plt"
   ]
  },
  {
   "cell_type": "code",
   "execution_count": 58,
   "metadata": {},
   "outputs": [
    {
     "data": {
      "text/plain": [
       "AServer: sr: 44100, blocksize: 1024,\n",
       "         Stream Active: True, Device: Built-in Output, Index: 1"
      ]
     },
     "execution_count": 58,
     "metadata": {},
     "output_type": "execute_result"
    }
   ],
   "source": [
    "server = pya.Aserver(bs=1024)  \n",
    "pya.Aserver.default = server  # set default Aserver to use play() w/o explicit arg\n",
    "server.boot()"
   ]
  },
  {
   "cell_type": "markdown",
   "metadata": {},
   "source": [
    "# Definitions"
   ]
  },
  {
   "cell_type": "code",
   "execution_count": 59,
   "metadata": {},
   "outputs": [],
   "source": [
    "def create_test_signal(duration, frequency, signal_amp, noise_amp, sample_rate = 44100):\n",
    "    \"\"\"Creates a test signal, consisting of a singel sine-wave of given frequency + noise.\"\"\"\n",
    "\n",
    "    signal = pya.Ugen().sine(freq=frequency, amp=signal_amp, dur=duration, sr=sample_rate)\n",
    "    noise = pya.Ugen().noise(type=\"pink\", amp=1, dur=duration, sr=sample_rate).norm(2)\n",
    "    noise += pya.Asig(-1 * np.ones(int(duration) * sample_rate), sr=sample_rate)\n",
    "    noise *= noise_amp\n",
    "    # it's very annoying that the noise (both types of noise) are not centered around zero...\n",
    "    \n",
    "    return signal + noise"
   ]
  },
  {
   "cell_type": "code",
   "execution_count": 60,
   "metadata": {},
   "outputs": [],
   "source": [
    "def analyse_signal(signal, sample_rate = 44100, low_cut = 90, high_cut = 15000, plot=False, fft_alg = 3):\n",
    "    \"\"\"Finds prominent frequencies in a given Signal.\n",
    "    \n",
    "    Parameters\n",
    "    ----------\n",
    "    signal: np.array\n",
    "        The signal to be analysed\n",
    "    sample_rate: int\n",
    "        The sample rate of the signal to be analysed\n",
    "    low_cut: int\n",
    "        The lowest frequency (in Hz) to be included in the analysis. (Default value = 90)\n",
    "    high_cut: int\n",
    "        The highest frequency (in Hz) to be included in the analysis. (Default value = 15000)\n",
    "    plot: bool\n",
    "        If plot is True, the spectrum of the analysed signal will be plotted. (Default value = False)\n",
    "    fft_alg: 1, 2 or 3\n",
    "        The implementation of the fast fourier transformation to be used for the analysis.\n",
    "        1: np.fft.rfft\n",
    "        2: np.fft.hfft\n",
    "        3: scipy.fftpack.rfft\n",
    "        \n",
    "    Returns\n",
    "    -------\n",
    "    peaks_freq: list of floats\n",
    "        A list of the approximated frequencies of the ten most prominent peaks, sorted by prominence.\n",
    "    peaks_amp: list of floats\n",
    "        A list of the approximated volumes of the ten most prominent peaks, sorted by prominence.\n",
    "    \n",
    "    \"\"\"\n",
    "    nr_samples = signal.size\n",
    "    \n",
    "    if fft_alg == 1:\n",
    "        index_to_freq_factor = sample_rate / nr_samples\n",
    "        low_i = int(low_cut / index_to_freq_factor)\n",
    "        high_i = int(high_cut / index_to_freq_factor)\n",
    "        spectrum = np.abs(np.fft.rfft(signal)[low_i:high_i]) / nr_samples * 2\n",
    "    elif fft_alg == 2:\n",
    "        index_to_freq_factor = 0.5 * sample_rate / nr_samples\n",
    "        low_i = int(low_cut / index_to_freq_factor)\n",
    "        high_i = int(high_cut / index_to_freq_factor)\n",
    "        spectrum = np.abs(np.fft.hfft(signal)[low_i:high_i]) / nr_samples * 2\n",
    "    elif fft_alg == 3:\n",
    "        index_to_freq_factor = 0.5 * sample_rate / nr_samples\n",
    "        low_i = int(low_cut / index_to_freq_factor)\n",
    "        high_i = int(high_cut / index_to_freq_factor)\n",
    "        # set overwrite_x True if you don't need the signal afterwards to be even faster!\n",
    "        spectrum = np.abs(scipy.fftpack.rfft(signal, overwrite_x=False)[low_i:high_i]) / nr_samples * 2\n",
    "    \n",
    "    if plot:\n",
    "        plt.plot(np.linspace(low_cut, high_cut, high_i - low_i), spectrum)\n",
    "    \n",
    "    peaks, _ = scipy.signal.find_peaks(spectrum)\n",
    "    prominences = scipy.signal.peak_prominences(spectrum, peaks)[0]\n",
    "    most_prominent = peaks[sorted(range(prominences.size), key=lambda i: - prominences[i])[:10]]\n",
    "    peaks_amp = spectrum[most_prominent]\n",
    "    peaks_freq = (most_prominent + low_i) * index_to_freq_factor\n",
    "    return peaks_freq, peaks_amp"
   ]
  },
  {
   "cell_type": "code",
   "execution_count": 69,
   "metadata": {},
   "outputs": [],
   "source": [
    "def evaluate_analyser(fft_alg,\n",
    "                      min_dur_factor = 1, max_duration_factor = 30,\n",
    "                      sample_rate = 44100, downsample_factors = [1,2,4,8], runs_per_dur = 3,\n",
    "                      test_recording = \"audio_files/recording-20190730-082916_amp.wav\",\n",
    "                      signal_freq = 349.91, signal_amp = 0.008616,\n",
    "                      signal_noise_ratio = 0.2):\n",
    "    \"\"\"Evaluates the performance of the analyse_signal function\n",
    "    The functions measures the computation time, the frequency error and the volume error for every duration and\n",
    "    every downsample facor.\n",
    "    \n",
    "    Frequency error is the difference between signal_freq and the closest frequency in the tenmost\n",
    "    prominent found frequencies, volume error is the difference between signal_amp (or\n",
    "    signal_noise_ratio / (1 + signal_noise_ratio) for synthesized signals) and the sum of all of the ten most \n",
    "    prominent frequencies that are not more than 10 Hz away from signal_freq.\n",
    "    \n",
    "    The time needed for the fft depends heavily on the factorization of the number of samples\n",
    "    so just testing durations in np.linspace(min_dur, max_dur, nr_runs) is not an option.\n",
    "    To controll the factorization of the number of samples, I test durations in\n",
    "    [2**12 * i / sample_rate for i in range(min_dur_factor,max_dur_factor)].\n",
    "    For the default values, this yealds 30 durations from ca 0.1 to 2.8 seconds.\n",
    "    \n",
    "    Parameters\n",
    "    ----------\n",
    "    fft_alg: 1, 2 or 3\n",
    "        The implementation of the fast fourier transformation to be used for the analysis.\n",
    "        1: np.fft.rfft\n",
    "        2: np.fft.hfft\n",
    "        3: scipy.fftpack.rfft\n",
    "    min_dur_factor: int\n",
    "        The minimum Duration to be analysed is 2**12 * min_dur_factor / sample_rate. (Default value = 1)\n",
    "    max_duration_factor: int\n",
    "        The maximum Duration to be analysed is 2**12 * min_dur_factor / sample_rate. (Default value = 30)\n",
    "    sample_rate: int\n",
    "        The sample rate of the signal to be analysed.\n",
    "    downsample_factors: list\n",
    "        A list of the downsample factors to be tested for each duration. (Default value = [1,2,4,8])\n",
    "    runs_per_dur: int\n",
    "        The number of test runs for every duration and every downsample factor. (Default value = 3)\n",
    "    test_recording: None or String\n",
    "        If a path to a wav recording is given, this recording is analysed,\n",
    "        if None is given, a synthetic Signal is synthesized with create_test_signal.\n",
    "        (Default value = \"audio_files/recording-20190730-082916_amp.wav\", a recording of my humming guitar amp)\n",
    "    signal_freq: float\n",
    "        Most prominent frequency of the recording or (if test_recording is None) the frequency of the \n",
    "        sine wave of the synthesized signal.\n",
    "        (Default value = 349.91, most prominent frequency of my humming amp)\n",
    "    signal_amp: float\n",
    "        The volume of the most prominent frequency of the recording or (only test_recording is not None).\n",
    "        (Default value = 0.008616, volume of most prominent frequency of my humming amp)\n",
    "    signal_noise_ratio:\n",
    "        The volume to noise ratio of the synthsized signal (only if test_recordning is None). (Default value = 0.2)\n",
    "    \n",
    "    Returns\n",
    "    -------\n",
    "    results: a dictionary of dictionarys\n",
    "        A dictionary for every given downsample factors that contains:\n",
    "        A list of tested durations,\n",
    "        A list of computation times for each tested duration,\n",
    "        The standard deviations per the run for each of those times,\n",
    "        A list of frequency errors for each tested duration,\n",
    "        A list of errors in volume for each tested duration.\n",
    "    \"\"\"\n",
    "\n",
    "    results = {i: {'durations': [], 'times': [], 'time sd': [], 'freq errors': [], 'amp errors': []}\n",
    "               for i in downsample_factors}\n",
    "\n",
    "    for nr_samples in [2**12 * i for i in range(min_dur_factor, max_duration_factor + 1)]:\n",
    "        dur = nr_samples / sample_rate\n",
    "\n",
    "        if test_recording is None:\n",
    "            signal_amp = signal_noise_ratio / (1 + signal_noise_ratio)\n",
    "            noise_amp = 1 / (1 + signal_noise_ratio)\n",
    "            signal = create_test_signal(dur, signal_freq, signal_amp, noise_amp)\n",
    "        else:\n",
    "            signal = pya.Asig(test_recording, label='test_recording')[3*nr_samples:4*nr_samples].mono()\n",
    "\n",
    "        for i in results:\n",
    "            if i > 1:\n",
    "                sample_rate_local = sample_rate // i\n",
    "                s = signal.resample(target_sr=sample_rate_local)\n",
    "            else:\n",
    "                sample_rate_local = sample_rate\n",
    "                s = signal\n",
    "\n",
    "            times = []\n",
    "            freq_errors = []\n",
    "            amp_errors = []\n",
    "            for _ in range(runs_per_dur):\n",
    "                start = time.time()\n",
    "                freqs, amps = analyse_signal(s.sig, sample_rate=sample_rate_local, fft_alg=fft_alg)\n",
    "                times.append(time.time() - start)\n",
    "\n",
    "                freq_errors.append(min([abs(signal_freq - f) for f in freqs]))\n",
    "\n",
    "                good_amps = [amps[i] for i in range(len(freqs)) if abs(signal_freq - freqs[i]) < 10]\n",
    "                if len(good_amps) > 0:\n",
    "                    amp_errors.append(abs(signal_amp - sum(good_amps)))\n",
    "                else:\n",
    "                    amp_errors.append(1)\n",
    "            results[i]['durations'].append(dur)\n",
    "            results[i]['times'].append(np.mean(times))\n",
    "            results[i]['time sd'].append(np.std(times))\n",
    "            results[i]['freq errors'].append(np.mean(freq_errors))\n",
    "            results[i]['amp errors'].append(np.mean(amp_errors))\n",
    "            \n",
    "    return results"
   ]
  },
  {
   "cell_type": "markdown",
   "metadata": {},
   "source": [
    "# Evaluation"
   ]
  },
  {
   "cell_type": "code",
   "execution_count": 84,
   "metadata": {},
   "outputs": [],
   "source": [
    "# scipy.fftpack.rfft has some strange computation times:\n",
    "# for some reason i = 23 yealds an extremely high time (16 s) and I have no idea why\n",
    "# similar i = 15 yealds an moderately high time for downsample 4 and I have no idea why\n",
    "# (both for default evaluation values)\n",
    "\n",
    "# np.fft.hfft is similar to scipy.fftpack.rfft without strange computation times\n",
    "\n",
    "# np.fft.rfft is by far the fastest, less inexplicable peaks and fastest convergence to low errors!\n",
    "\n",
    "results = evaluate_analyser(fft_alg=1, min_dur_factor=6)"
   ]
  },
  {
   "cell_type": "code",
   "execution_count": 85,
   "metadata": {},
   "outputs": [
    {
     "data": {
      "image/png": "[encoded data removed]",
      "text/plain": [
       "<Figure size 432x288 with 1 Axes>"
      ]
     },
     "metadata": {
      "needs_background": "light"
     },
     "output_type": "display_data"
    }
   ],
   "source": [
    "fig, ax = plt.subplots()\n",
    "\n",
    "for i in results:\n",
    "    ax.step(results[i]['durations'], results[i]['times'], label=\"downsample factor: %i\" % i)\n",
    "\n",
    "ax.set(xlabel='block size (s)', ylabel='computation time (s)',\n",
    "       title='computation time')\n",
    "ax.legend()\n",
    "\n",
    "#fig.savefig(\"test.png\")\n",
    "plt.show()"
   ]
  },
  {
   "cell_type": "code",
   "execution_count": 86,
   "metadata": {},
   "outputs": [
    {
     "data": {
      "image/png": "[encoded data removed]",
      "text/plain": [
       "<Figure size 432x288 with 1 Axes>"
      ]
     },
     "metadata": {
      "needs_background": "light"
     },
     "output_type": "display_data"
    }
   ],
   "source": [
    "fig, ax = plt.subplots()\n",
    "\n",
    "for i in results:\n",
    "    ax.step(results[i]['durations'], results[i]['freq errors'], label=\"downsample factor: %i\" % i)\n",
    "\n",
    "ax.set(xlabel='block size (s)', ylabel='frequency error (Hz)',\n",
    "       title='frequency error')\n",
    "ax.legend()\n",
    "\n",
    "#fig.savefig(\"test.png\")\n",
    "plt.show()"
   ]
  },
  {
   "cell_type": "code",
   "execution_count": 87,
   "metadata": {},
   "outputs": [
    {
     "data": {
      "image/png": "[encoded data removed]",
      "text/plain": [
       "<Figure size 432x288 with 1 Axes>"
      ]
     },
     "metadata": {
      "needs_background": "light"
     },
     "output_type": "display_data"
    }
   ],
   "source": [
    "fig, ax = plt.subplots()\n",
    "\n",
    "for i in results:\n",
    "    ax.step(results[i]['durations'], results[i]['amp errors'], label=\"downsample factor: %i\" % i)\n",
    "\n",
    "ax.set(xlabel='block size (s)', ylabel='amp error',\n",
    "       title='amp error')\n",
    "ax.legend()\n",
    "\n",
    "#fig.savefig(\"test.png\")\n",
    "plt.show()\n"
   ]
  },
  {
   "cell_type": "code",
   "execution_count": 88,
   "metadata": {},
   "outputs": [
    {
     "name": "stdout",
     "output_type": "stream",
     "text": [
      "1.5789569160997732\n",
      "0.2\n"
     ]
    },
    {
     "data": {
      "text/plain": [
       "(array([ 1000.02728631,  2001.32123162,  7456.18824678, 10286.53779871,\n",
       "         4582.1389591 , 13392.38568474,  9006.57887178, 11570.93003217,\n",
       "        10626.63574219, 14020.01522289]),\n",
       " array([0.19888609, 0.13848724, 0.0161139 , 0.01581509, 0.01539372,\n",
       "        0.01470204, 0.01465726, 0.01452725, 0.01441892, 0.01418972]))"
      ]
     },
     "execution_count": 88,
     "metadata": {},
     "output_type": "execute_result"
    },
    {
     "data": {
      "image/png": "[encoded data removed]",
      "text/plain": [
       "<Figure size 432x288 with 1 Axes>"
      ]
     },
     "metadata": {
      "needs_background": "light"
     },
     "output_type": "display_data"
    }
   ],
   "source": [
    "# manual test\n",
    "# looks like measured intensity of sine depends heavily on the relation of frequency of sine and duration\n",
    "# for i = 17, freq = 1000, 2000, 3000, 4000 allmost no error\n",
    "# but for i = 17, freq = 1001, 2001 etc. high error!\n",
    "# This result does not even fanish for giant blocksize like i=441*5 , dur = 204.8 sec!\n",
    "i = 17\n",
    "dur = 2**12 * i / 44100\n",
    "print(dur)\n",
    "#dur = 2.0\n",
    "#signal_noise_ratio = 1 / 14\n",
    "signal_freq = 1000\n",
    "signal_amp = 0.2 # signal_noise_ratio / (1 + signal_noise_ratio)\n",
    "print(signal_amp)\n",
    "noise_amp = 0.8 #1 / (1 + signal_noise_ratio)\n",
    "signal = create_test_signal(dur, signal_freq, signal_amp, noise_amp) + create_test_signal(dur, 2001, 0.2, noise_amp)\n",
    "analyse_signal(signal.sig, plot=True, fft_alg=1)"
   ]
  },
  {
   "cell_type": "code",
   "execution_count": 89,
   "metadata": {},
   "outputs": [
    {
     "name": "stdout",
     "output_type": "stream",
     "text": [
      "2.6006349206349206\n"
     ]
    },
    {
     "data": {
      "text/plain": [
       "(array([ 349.91455078,  249.93896484,  449.89013672,  649.84130859,\n",
       "         749.81689453, 1350.05493164,  149.96337891, 1450.03051758,\n",
       "        1749.95727539, 1050.12817383]),\n",
       " array([0.00705141, 0.0067077 , 0.00646068, 0.00278941, 0.00250887,\n",
       "        0.00213524, 0.00181693, 0.00115382, 0.00102732, 0.00094502]))"
      ]
     },
     "execution_count": 89,
     "metadata": {},
     "output_type": "execute_result"
    },
    {
     "data": {
      "image/png": "[encoded data removed]",
      "text/plain": [
       "<Figure size 432x288 with 1 Axes>"
      ]
     },
     "metadata": {
      "needs_background": "light"
     },
     "output_type": "display_data"
    }
   ],
   "source": [
    "# manual test with recorded noise\n",
    "i = 28\n",
    "nr_samples = 2**12 * i\n",
    "sample_rate = 44100\n",
    "dur = nr_samples / sample_rate\n",
    "print(dur)\n",
    "signal_freq = 349.91455078  # identified as dominant frequency when i = 28 for alg 1, i = 34 for alg 2,3\n",
    "signal_amp = 0.00861599\n",
    "signal = pya.Asig(\"audio_files/recording-20190730-082916_amp.wav\", label='amp')[3*nr_samples:4*nr_samples].mono()\n",
    "analyse_signal(signal.sig, plot=True, fft_alg=1)"
   ]
  }
 ],
 "metadata": {
  "kernelspec": {
   "display_name": "Python [conda env:adaptive_tuning] *",
   "language": "python",
   "name": "conda-env-adaptive_tuning-py"
  },
  "language_info": {
   "codemirror_mode": {
    "name": "ipython",
    "version": 3
   },
   "file_extension": ".py",
   "mimetype": "text/x-python",
   "name": "python",
   "nbconvert_exporter": "python",
   "pygments_lexer": "ipython3",
   "version": "3.7.3"
  }
 },
 "nbformat": 4,
 "nbformat_minor": 2
}
